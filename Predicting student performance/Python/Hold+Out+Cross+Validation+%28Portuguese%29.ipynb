{
 "cells": [
  {
   "cell_type": "markdown",
   "metadata": {},
   "source": [
    "Import all the needed libraries:"
   ]
  },
  {
   "cell_type": "code",
   "execution_count": 15,
   "metadata": {
    "collapsed": true
   },
   "outputs": [],
   "source": [
    "import pandas as pd\n",
    "from sklearn import model_selection\n",
    "from sklearn.linear_model import LogisticRegression\n",
    "from sklearn.model_selection import cross_val_score\n",
    "from sklearn.model_selection import train_test_split\n",
    "from sklearn.model_selection import cross_val_predict\n",
    "from sklearn.metrics import mean_squared_error\n",
    "from sklearn.metrics import accuracy_score\n",
    "from sklearn.metrics import confusion_matrix\n",
    "from sklearn.preprocessing import StandardScaler\n",
    "from sklearn.neighbors import KNeighborsRegressor\n",
    "from sklearn.neighbors import KNeighborsClassifier \n",
    "from sklearn.naive_bayes import GaussianNB\n",
    "from sklearn.svm import SVC\n",
    "from sklearn.svm import SVR\n",
    "from sklearn.tree import DecisionTreeClassifier\n",
    "from sklearn.tree import DecisionTreeRegressor\n",
    "from sklearn.ensemble import RandomForestClassifier\n",
    "from sklearn.ensemble import RandomForestRegressor\n",
    "from sklearn.neural_network import MLPClassifier\n",
    "from sklearn.neural_network import MLPRegressor\n",
    "from sklearn.linear_model import LinearRegression\n",
    "import matplotlib.pyplot as plt"
   ]
  },
  {
   "cell_type": "markdown",
   "metadata": {},
   "source": [
    "Logistic Regression Algorithm "
   ]
  },
  {
   "cell_type": "code",
   "execution_count": 16,
   "metadata": {},
   "outputs": [
    {
     "name": "stdout",
     "output_type": "stream",
     "text": [
      "90.5511811024\n",
      "[[ 10   9]\n",
      " [  3 105]]\n"
     ]
    },
    {
     "name": "stderr",
     "output_type": "stream",
     "text": [
      "/anaconda3/lib/python3.6/site-packages/sklearn/utils/validation.py:578: DataConversionWarning: A column-vector y was passed when a 1d array was expected. Please change the shape of y to (n_samples, ), for example using ravel().\n",
      "  y = column_or_1d(y, warn=True)\n",
      "/anaconda3/lib/python3.6/site-packages/sklearn/utils/validation.py:578: DataConversionWarning: A column-vector y was passed when a 1d array was expected. Please change the shape of y to (n_samples, ), for example using ravel().\n",
      "  y = column_or_1d(y, warn=True)\n",
      "/anaconda3/lib/python3.6/site-packages/sklearn/utils/validation.py:578: DataConversionWarning: A column-vector y was passed when a 1d array was expected. Please change the shape of y to (n_samples, ), for example using ravel().\n",
      "  y = column_or_1d(y, warn=True)\n",
      "/anaconda3/lib/python3.6/site-packages/sklearn/utils/validation.py:578: DataConversionWarning: A column-vector y was passed when a 1d array was expected. Please change the shape of y to (n_samples, ), for example using ravel().\n",
      "  y = column_or_1d(y, warn=True)\n",
      "/anaconda3/lib/python3.6/site-packages/sklearn/utils/validation.py:578: DataConversionWarning: A column-vector y was passed when a 1d array was expected. Please change the shape of y to (n_samples, ), for example using ravel().\n",
      "  y = column_or_1d(y, warn=True)\n",
      "/anaconda3/lib/python3.6/site-packages/sklearn/utils/validation.py:578: DataConversionWarning: A column-vector y was passed when a 1d array was expected. Please change the shape of y to (n_samples, ), for example using ravel().\n",
      "  y = column_or_1d(y, warn=True)\n",
      "/anaconda3/lib/python3.6/site-packages/sklearn/utils/validation.py:578: DataConversionWarning: A column-vector y was passed when a 1d array was expected. Please change the shape of y to (n_samples, ), for example using ravel().\n",
      "  y = column_or_1d(y, warn=True)\n",
      "/anaconda3/lib/python3.6/site-packages/sklearn/utils/validation.py:578: DataConversionWarning: A column-vector y was passed when a 1d array was expected. Please change the shape of y to (n_samples, ), for example using ravel().\n",
      "  y = column_or_1d(y, warn=True)\n",
      "/anaconda3/lib/python3.6/site-packages/sklearn/utils/validation.py:578: DataConversionWarning: A column-vector y was passed when a 1d array was expected. Please change the shape of y to (n_samples, ), for example using ravel().\n",
      "  y = column_or_1d(y, warn=True)\n",
      "/anaconda3/lib/python3.6/site-packages/sklearn/utils/validation.py:578: DataConversionWarning: A column-vector y was passed when a 1d array was expected. Please change the shape of y to (n_samples, ), for example using ravel().\n",
      "  y = column_or_1d(y, warn=True)\n"
     ]
    }
   ],
   "source": [
    "from sklearn.model_selection import KFold\n",
    "df2 = pd.read_csv(\"student-por-prepro-CatG3-2.csv\")\n",
    "array = df2.values\n",
    "x = df2[['age', 'paid_YES', 'Mjob','Fjob','famrel','G2']]\n",
    "Y = array[:,-1].reshape(-1,1)\n",
    "KFold = KFold(n_splits=10,random_state=20)\n",
    "model= LogisticRegression()\n",
    "scaler=StandardScaler()\n",
    "X=scaler.fit(x).transform(x)\n",
    "X_train,X_test, Y_train, Y_test = train_test_split (X, Y, test_size =.20, random_state=20)\n",
    "results = cross_val_score(model,X_train,Y_train,cv=KFold)\n",
    "model.fit(X_train,Y_train)\n",
    "y_pre= model.predict(X_test)\n",
    "print((accuracy_score(y_pre,Y_test)*100))\n",
    "\n",
    "## to calcultae Confusion matrix\n",
    "predicted = model.predict(X_test) \n",
    "matrix = confusion_matrix(Y_test, predicted)\n",
    "print(matrix)"
   ]
  },
  {
   "cell_type": "markdown",
   "metadata": {},
   "source": [
    "KNN Algorithm (Regression)"
   ]
  },
  {
   "cell_type": "code",
   "execution_count": 17,
   "metadata": {},
   "outputs": [
    {
     "name": "stdout",
     "output_type": "stream",
     "text": [
      "0.425365309637\n"
     ]
    },
    {
     "name": "stderr",
     "output_type": "stream",
     "text": [
      "/anaconda3/lib/python3.6/site-packages/sklearn/utils/validation.py:475: DataConversionWarning: Data with input dtype int64 was converted to float64 by StandardScaler.\n",
      "  warnings.warn(msg, DataConversionWarning)\n"
     ]
    }
   ],
   "source": [
    "from sklearn.model_selection import KFold\n",
    "df2 = pd.read_csv(\"student-por-prepro.csv\")\n",
    "array = df2.values\n",
    "X =df2[['G1','G2','famrel','absences','freetime','age']]\n",
    "Y = array[:,-1].reshape(-1,1)\n",
    "scaler=StandardScaler()\n",
    "x=scaler.fit(X).transform(X)\n",
    "y=scaler.fit(Y).transform(Y)\n",
    "KFold = KFold(n_splits=10,random_state=20)\n",
    "model= KNeighborsRegressor()\n",
    "X_train,X_test, Y_train, Y_test = train_test_split(x, y, test_size =0.20, random_state=20)\n",
    "results = cross_val_score(model,X_train,Y_train,cv=KFold)\n",
    "model.fit(X_train,Y_train)\n",
    "\n",
    "## to calcultae Confusion matrix\n",
    "predicted = model.predict(X_test)\n",
    "RMSE=mean_squared_error(predicted,Y_test)**0.5\n",
    "print(RMSE)"
   ]
  },
  {
   "cell_type": "markdown",
   "metadata": {},
   "source": [
    " KNN Algorithm (classification)"
   ]
  },
  {
   "cell_type": "code",
   "execution_count": 18,
   "metadata": {},
   "outputs": [
    {
     "name": "stdout",
     "output_type": "stream",
     "text": [
      "90.5511811024\n",
      "[[  8  11]\n",
      " [  1 107]]\n"
     ]
    },
    {
     "name": "stderr",
     "output_type": "stream",
     "text": [
      "/anaconda3/lib/python3.6/site-packages/sklearn/model_selection/_validation.py:458: DataConversionWarning: A column-vector y was passed when a 1d array was expected. Please change the shape of y to (n_samples, ), for example using ravel().\n",
      "  estimator.fit(X_train, y_train, **fit_params)\n",
      "/anaconda3/lib/python3.6/site-packages/sklearn/model_selection/_validation.py:458: DataConversionWarning: A column-vector y was passed when a 1d array was expected. Please change the shape of y to (n_samples, ), for example using ravel().\n",
      "  estimator.fit(X_train, y_train, **fit_params)\n",
      "/anaconda3/lib/python3.6/site-packages/sklearn/model_selection/_validation.py:458: DataConversionWarning: A column-vector y was passed when a 1d array was expected. Please change the shape of y to (n_samples, ), for example using ravel().\n",
      "  estimator.fit(X_train, y_train, **fit_params)\n",
      "/anaconda3/lib/python3.6/site-packages/sklearn/model_selection/_validation.py:458: DataConversionWarning: A column-vector y was passed when a 1d array was expected. Please change the shape of y to (n_samples, ), for example using ravel().\n",
      "  estimator.fit(X_train, y_train, **fit_params)\n",
      "/anaconda3/lib/python3.6/site-packages/sklearn/model_selection/_validation.py:458: DataConversionWarning: A column-vector y was passed when a 1d array was expected. Please change the shape of y to (n_samples, ), for example using ravel().\n",
      "  estimator.fit(X_train, y_train, **fit_params)\n",
      "/anaconda3/lib/python3.6/site-packages/sklearn/model_selection/_validation.py:458: DataConversionWarning: A column-vector y was passed when a 1d array was expected. Please change the shape of y to (n_samples, ), for example using ravel().\n",
      "  estimator.fit(X_train, y_train, **fit_params)\n",
      "/anaconda3/lib/python3.6/site-packages/sklearn/model_selection/_validation.py:458: DataConversionWarning: A column-vector y was passed when a 1d array was expected. Please change the shape of y to (n_samples, ), for example using ravel().\n",
      "  estimator.fit(X_train, y_train, **fit_params)\n",
      "/anaconda3/lib/python3.6/site-packages/sklearn/model_selection/_validation.py:458: DataConversionWarning: A column-vector y was passed when a 1d array was expected. Please change the shape of y to (n_samples, ), for example using ravel().\n",
      "  estimator.fit(X_train, y_train, **fit_params)\n",
      "/anaconda3/lib/python3.6/site-packages/sklearn/model_selection/_validation.py:458: DataConversionWarning: A column-vector y was passed when a 1d array was expected. Please change the shape of y to (n_samples, ), for example using ravel().\n",
      "  estimator.fit(X_train, y_train, **fit_params)\n",
      "/anaconda3/lib/python3.6/site-packages/sklearn/model_selection/_validation.py:458: DataConversionWarning: A column-vector y was passed when a 1d array was expected. Please change the shape of y to (n_samples, ), for example using ravel().\n",
      "  estimator.fit(X_train, y_train, **fit_params)\n",
      "/anaconda3/lib/python3.6/site-packages/ipykernel_launcher.py:12: DataConversionWarning: A column-vector y was passed when a 1d array was expected. Please change the shape of y to (n_samples, ), for example using ravel().\n",
      "  if sys.path[0] == '':\n"
     ]
    }
   ],
   "source": [
    "from sklearn.model_selection import KFold\n",
    "df2 = pd.read_csv(\"student-por-prepro-CatG3-2.csv\")\n",
    "array = df2.values\n",
    "X =df2[['G1','G2','famrel','absences','freetime','age']]\n",
    "scaler=StandardScaler()\n",
    "x=scaler.fit(X).transform(X)\n",
    "Y = array[:,-1].reshape(-1,1)\n",
    "KFold = KFold(n_splits=10,random_state=20)\n",
    "model= KNeighborsClassifier()\n",
    "X_train,X_test, Y_train, Y_test = train_test_split (x, Y, test_size =.20, random_state=20)\n",
    "results = cross_val_score(model,X_train,Y_train,cv=KFold)\n",
    "model.fit(X_train,Y_train)\n",
    "y_pre= model.predict(X_test)\n",
    "print((accuracy_score(y_pre,Y_test)*100))\n",
    "\n",
    "## to calcultae Confusion matrix\n",
    "predicted = model.predict(X_test) \n",
    "matrix = confusion_matrix(Y_test, predicted)\n",
    "print(matrix)"
   ]
  },
  {
   "cell_type": "markdown",
   "metadata": {},
   "source": [
    "GaussianNB Algorithm (classification)"
   ]
  },
  {
   "cell_type": "code",
   "execution_count": 19,
   "metadata": {},
   "outputs": [
    {
     "name": "stdout",
     "output_type": "stream",
     "text": [
      "92.9133858268\n",
      "[[ 15   4]\n",
      " [  5 103]]\n"
     ]
    }
   ],
   "source": [
    "from sklearn.model_selection import KFold\n",
    "df2 = pd.read_csv(\"student-por-prepro-CatG3-2.csv\")\n",
    "array = df2.values\n",
    "x = df2[['G1','G2', 'schoolsup_YES','address_U']]\n",
    "Y = array[:,-1]\n",
    "KFold = KFold(n_splits=10,random_state=20)\n",
    "model= GaussianNB()\n",
    "scaler=StandardScaler()\n",
    "X=scaler.fit(x).transform(x)\n",
    "X_train,X_test, Y_train, Y_test = train_test_split (X, Y, test_size =.20, random_state=20)\n",
    "results = cross_val_score(model,X_train,Y_train,cv=KFold)\n",
    "model.fit(X_train,Y_train)\n",
    "y_pre= model.predict(X_test)\n",
    "print((accuracy_score(y_pre,Y_test)*100))\n",
    "\n",
    "## to calcultae Confusion matrix\n",
    "predicted = model.predict(X_test) \n",
    "matrix = confusion_matrix(Y_test, predicted)\n",
    "print(matrix)"
   ]
  },
  {
   "cell_type": "markdown",
   "metadata": {},
   "source": [
    "GaussianNB Algorithm (Regression)"
   ]
  },
  {
   "cell_type": "code",
   "execution_count": 20,
   "metadata": {},
   "outputs": [
    {
     "name": "stdout",
     "output_type": "stream",
     "text": [
      "2.46710643735\n"
     ]
    }
   ],
   "source": [
    "from sklearn.model_selection import KFold\n",
    "df2 = pd.read_csv(\"student-por-prepro.csv\")\n",
    "array = df2.values\n",
    "X = df2[['G2','G1','schoolsup_YES','sex_F']]\n",
    "Y = array[:,-1]\n",
    "KFold = KFold(n_splits=10,random_state=20)\n",
    "model= GaussianNB()\n",
    "\n",
    "X_train,X_test, Y_train, Y_test = train_test_split (X, Y, test_size =.20, random_state=20)\n",
    "\n",
    "predicted = cross_val_predict(model,X_train,Y_train,cv=KFold)\n",
    "model.fit(X_train,Y_train)\n",
    "y_pre= model.predict(X_test)\n",
    "RMSE=mean_squared_error(y_pre,Y_test)**0.5\n",
    "print(RMSE)"
   ]
  },
  {
   "cell_type": "markdown",
   "metadata": {},
   "source": [
    "SVM Algorithm (classification)"
   ]
  },
  {
   "cell_type": "code",
   "execution_count": 21,
   "metadata": {},
   "outputs": [
    {
     "name": "stdout",
     "output_type": "stream",
     "text": [
      "91.3385826772\n",
      "[[ 10   9]\n",
      " [  2 106]]\n"
     ]
    }
   ],
   "source": [
    "from sklearn.model_selection import KFold\n",
    "df2 = pd.read_csv(\"student-por-prepro-CatG3-2.csv\")\n",
    "array = df2.values\n",
    "X =df2[['age','paid_YES','G1','G2','nursery_YES']]\n",
    "\n",
    "Y = array[:,-1]\n",
    "KFold = KFold(n_splits=10,random_state=20)\n",
    "model= SVC()\n",
    "X_train,X_test, Y_train, Y_test = train_test_split (X, Y, test_size =.20, random_state=20)\n",
    "results = cross_val_score(model,X_train,Y_train,cv=KFold)\n",
    "model.fit(X_train,Y_train)\n",
    "y_pre= model.predict(X_test)\n",
    "print((accuracy_score(y_pre,Y_test)*100))\n",
    "\n",
    "## to calcultae Confusion matrix\n",
    "predicted = model.predict(X_test) \n",
    "matrix = confusion_matrix(Y_test, predicted)\n",
    "print(matrix)"
   ]
  },
  {
   "cell_type": "markdown",
   "metadata": {},
   "source": [
    "SVM Algorithm (Regression)"
   ]
  },
  {
   "cell_type": "code",
   "execution_count": 22,
   "metadata": {},
   "outputs": [
    {
     "name": "stdout",
     "output_type": "stream",
     "text": [
      "1.01047710525\n"
     ]
    }
   ],
   "source": [
    "from sklearn.model_selection import KFold\n",
    "df2 = pd.read_csv(\"student-por-prepro.csv\")\n",
    "array = df2.values\n",
    "X =df2[['age','paid_YES','G1','G2','nursery_YES']]\n",
    "Y = array[:,-1]\n",
    "KFold = KFold(n_splits=10,random_state=20)\n",
    "model= SVR()\n",
    "X_train,X_test, Y_train, Y_test = train_test_split (X, Y, test_size =.20, random_state=20)\n",
    "results = cross_val_score(model,X_train,Y_train,cv=KFold)\n",
    "model.fit(X_train,Y_train)\n",
    "predicted =model.predict(X_test)\n",
    "RMSE=mean_squared_error(predicted,Y_test)**0.5\n",
    "print(RMSE)"
   ]
  },
  {
   "cell_type": "markdown",
   "metadata": {},
   "source": [
    "DDT Algorithm (classification)"
   ]
  },
  {
   "cell_type": "code",
   "execution_count": 23,
   "metadata": {},
   "outputs": [
    {
     "name": "stdout",
     "output_type": "stream",
     "text": [
      "88.188976378\n",
      "[[  9  10]\n",
      " [  5 103]]\n"
     ]
    }
   ],
   "source": [
    "from sklearn.model_selection import KFold\n",
    "df2 = pd.read_csv(\"student-por-prepro-CatG3-2.csv\")\n",
    "array = df2.values\n",
    "X = df2[['G2','Fedu','famrel']]\n",
    "Y = array[:,-1]\n",
    "\n",
    "KFold = KFold(n_splits=10,random_state=20)\n",
    "model= DecisionTreeClassifier()\n",
    "X_train,X_test, Y_train, Y_test = train_test_split (X, Y, test_size =.20, random_state=20)\n",
    "results = cross_val_score(model,X_train,Y_train,cv=KFold)\n",
    "model.fit(X_train,Y_train)\n",
    "y_pre= model.predict(X_test)\n",
    "print((accuracy_score(y_pre,Y_test)*100))\n",
    "\n",
    "## to calcultae Confusion matrix\n",
    "predicted = model.predict(X_test) \n",
    "matrix = confusion_matrix(Y_test, predicted)\n",
    "print(matrix)"
   ]
  },
  {
   "cell_type": "markdown",
   "metadata": {},
   "source": [
    "DDT Algorithm (Regression)"
   ]
  },
  {
   "cell_type": "code",
   "execution_count": 24,
   "metadata": {},
   "outputs": [
    {
     "name": "stdout",
     "output_type": "stream",
     "text": [
      "0.319291416433\n"
     ]
    }
   ],
   "source": [
    "from sklearn.model_selection import KFold\n",
    "df2 = pd.read_csv(\"student-por-prepro.csv\")\n",
    "array = df2.values\n",
    "x = df2[['G2','Fedu','famrel']]\n",
    "y = array[:,-1]\n",
    "\n",
    "KFold = KFold(n_splits=10,random_state=20)\n",
    "model= DecisionTreeRegressor()\n",
    "X_train,X_test, Y_train, Y_test = train_test_split (X, Y, test_size =.20, random_state=20)\n",
    "model.fit(X_train,Y_train)\n",
    "predicted =model.predict(X_test) \n",
    "RMSE=mean_squared_error(Y_test,predicted)**0.5\n",
    "print(RMSE)"
   ]
  },
  {
   "cell_type": "markdown",
   "metadata": {},
   "source": [
    "RF Algorithm (classification)"
   ]
  },
  {
   "cell_type": "code",
   "execution_count": 25,
   "metadata": {},
   "outputs": [
    {
     "name": "stdout",
     "output_type": "stream",
     "text": [
      "88.188976378\n",
      "[[  9  10]\n",
      " [  5 103]]\n"
     ]
    }
   ],
   "source": [
    "from sklearn.model_selection import KFold\n",
    "df2 = pd.read_csv(\"student-por-prepro-CatG3-2.csv\")\n",
    "array = df2.values\n",
    "X = df2[['G2','famrel','absences','goout','age','Medu']]\n",
    "Y = array[:,-1]\n",
    "\n",
    "#Y=scaler.fit(Y).transform(y)\n",
    "KFold = KFold(n_splits=10,random_state=20)\n",
    "model= RandomForestClassifier()\n",
    "X_train,X_test, Y_train, Y_test = train_test_split (X, Y, test_size =.20, random_state=20)\n",
    "results = cross_val_score(model,X_train,Y_train,cv=KFold)\n",
    "model.fit(X_train,Y_train)\n",
    "y_pre= model.predict(X_test)\n",
    "print((accuracy_score(y_pre,Y_test)*100))\n",
    "\n",
    "## to calcultae Confusion matrix\n",
    "predicted = model.predict(X_test) \n",
    "matrix = confusion_matrix(Y_test, predicted)\n",
    "print(matrix)"
   ]
  },
  {
   "cell_type": "markdown",
   "metadata": {},
   "source": [
    "RF Algorithm (Regression)"
   ]
  },
  {
   "cell_type": "code",
   "execution_count": 26,
   "metadata": {},
   "outputs": [
    {
     "name": "stdout",
     "output_type": "stream",
     "text": [
      "0.988993905824\n"
     ]
    }
   ],
   "source": [
    "from sklearn.model_selection import KFold\n",
    "\n",
    "df2 = pd.read_csv(\"student-por-prepro.csv\")\n",
    "array = df2.values\n",
    "X = df2[['G2','famrel','absences','goout','age','Medu']]\n",
    "Y = array[:,-1]\n",
    "KFold = KFold(n_splits=10,random_state=20)\n",
    "model= RandomForestRegressor()\n",
    "X_train,X_test, Y_train, Y_test = train_test_split (X, Y, test_size =.20, random_state=20)\n",
    "model.fit(X_train,Y_train)\n",
    "predicted = model.predict(X_test) \n",
    "RMSE=mean_squared_error(predicted,Y_test)**0.5\n",
    "print(RMSE)"
   ]
  },
  {
   "cell_type": "markdown",
   "metadata": {},
   "source": [
    "ANN (classification)"
   ]
  },
  {
   "cell_type": "code",
   "execution_count": 27,
   "metadata": {},
   "outputs": [
    {
     "name": "stderr",
     "output_type": "stream",
     "text": [
      "/anaconda3/lib/python3.6/site-packages/sklearn/neural_network/multilayer_perceptron.py:912: DataConversionWarning: A column-vector y was passed when a 1d array was expected. Please change the shape of y to (n_samples, ), for example using ravel().\n",
      "  y = column_or_1d(y, warn=True)\n",
      "/anaconda3/lib/python3.6/site-packages/sklearn/neural_network/multilayer_perceptron.py:912: DataConversionWarning: A column-vector y was passed when a 1d array was expected. Please change the shape of y to (n_samples, ), for example using ravel().\n",
      "  y = column_or_1d(y, warn=True)\n",
      "/anaconda3/lib/python3.6/site-packages/sklearn/neural_network/multilayer_perceptron.py:912: DataConversionWarning: A column-vector y was passed when a 1d array was expected. Please change the shape of y to (n_samples, ), for example using ravel().\n",
      "  y = column_or_1d(y, warn=True)\n",
      "/anaconda3/lib/python3.6/site-packages/sklearn/neural_network/multilayer_perceptron.py:912: DataConversionWarning: A column-vector y was passed when a 1d array was expected. Please change the shape of y to (n_samples, ), for example using ravel().\n",
      "  y = column_or_1d(y, warn=True)\n",
      "/anaconda3/lib/python3.6/site-packages/sklearn/neural_network/multilayer_perceptron.py:912: DataConversionWarning: A column-vector y was passed when a 1d array was expected. Please change the shape of y to (n_samples, ), for example using ravel().\n",
      "  y = column_or_1d(y, warn=True)\n",
      "/anaconda3/lib/python3.6/site-packages/sklearn/neural_network/multilayer_perceptron.py:912: DataConversionWarning: A column-vector y was passed when a 1d array was expected. Please change the shape of y to (n_samples, ), for example using ravel().\n",
      "  y = column_or_1d(y, warn=True)\n",
      "/anaconda3/lib/python3.6/site-packages/sklearn/neural_network/multilayer_perceptron.py:912: DataConversionWarning: A column-vector y was passed when a 1d array was expected. Please change the shape of y to (n_samples, ), for example using ravel().\n",
      "  y = column_or_1d(y, warn=True)\n",
      "/anaconda3/lib/python3.6/site-packages/sklearn/neural_network/multilayer_perceptron.py:912: DataConversionWarning: A column-vector y was passed when a 1d array was expected. Please change the shape of y to (n_samples, ), for example using ravel().\n",
      "  y = column_or_1d(y, warn=True)\n",
      "/anaconda3/lib/python3.6/site-packages/sklearn/neural_network/multilayer_perceptron.py:912: DataConversionWarning: A column-vector y was passed when a 1d array was expected. Please change the shape of y to (n_samples, ), for example using ravel().\n",
      "  y = column_or_1d(y, warn=True)\n",
      "/anaconda3/lib/python3.6/site-packages/sklearn/neural_network/multilayer_perceptron.py:912: DataConversionWarning: A column-vector y was passed when a 1d array was expected. Please change the shape of y to (n_samples, ), for example using ravel().\n",
      "  y = column_or_1d(y, warn=True)\n"
     ]
    },
    {
     "name": "stdout",
     "output_type": "stream",
     "text": [
      " Accuracy:91.339%\n",
      "[[ 13   6]\n",
      " [  5 103]]\n"
     ]
    }
   ],
   "source": [
    "from sklearn.model_selection import KFold\n",
    "\n",
    "df2= pd.read_csv('student-por-prepro-CatG3-2.csv')\n",
    "array = df2.values\n",
    "x=df2[['school_GP','age','Mjob','Fjob','traveltime','Medu','famrel','goout','freetime','G2']]\n",
    "Y=array[:,-1].reshape(-1,1)\n",
    "scaler=StandardScaler()\n",
    "X=scaler.fit(x).transform(x)\n",
    "X_train, X_test, Y_train, Y_test = train_test_split(X, Y, test_size=0.2, random_state=7)\n",
    "    \n",
    "model = MLPClassifier(solver='lbfgs', alpha=1e-5,hidden_layer_sizes=(5, 2), random_state=1)\n",
    "   \n",
    "\n",
    "kfold = KFold(n_splits=10, random_state=20)\n",
    "results = cross_val_score(model, X_train, Y_train, cv=kfold)\n",
    "#print(\"Accuracy: %.3f%% (%.3f%%)\" % (results.mean()*100.0, results.std()*100.0))\n",
    "    \n",
    "    \n",
    "#print(\"test \")\n",
    "model.fit(X_train,Y_train)\n",
    "y_pre = model.predict(X_test)\n",
    "    \n",
    "print(\" Accuracy:%.3f%%\" % (accuracy_score(y_pre,Y_test)*100))\n",
    "matrix = confusion_matrix(Y_test, y_pre)\n",
    "print(matrix)\n"
   ]
  },
  {
   "cell_type": "markdown",
   "metadata": {},
   "source": [
    "ANN (regreisson)\n"
   ]
  },
  {
   "cell_type": "code",
   "execution_count": 28,
   "metadata": {},
   "outputs": [
    {
     "name": "stderr",
     "output_type": "stream",
     "text": [
      "/anaconda3/lib/python3.6/site-packages/sklearn/utils/validation.py:475: DataConversionWarning: Data with input dtype int64 was converted to float64 by StandardScaler.\n",
      "  warnings.warn(msg, DataConversionWarning)\n",
      "/anaconda3/lib/python3.6/site-packages/sklearn/neural_network/multilayer_perceptron.py:1306: DataConversionWarning: A column-vector y was passed when a 1d array was expected. Please change the shape of y to (n_samples, ), for example using ravel().\n",
      "  y = column_or_1d(y, warn=True)\n",
      "/anaconda3/lib/python3.6/site-packages/sklearn/neural_network/multilayer_perceptron.py:1306: DataConversionWarning: A column-vector y was passed when a 1d array was expected. Please change the shape of y to (n_samples, ), for example using ravel().\n",
      "  y = column_or_1d(y, warn=True)\n",
      "/anaconda3/lib/python3.6/site-packages/sklearn/neural_network/multilayer_perceptron.py:1306: DataConversionWarning: A column-vector y was passed when a 1d array was expected. Please change the shape of y to (n_samples, ), for example using ravel().\n",
      "  y = column_or_1d(y, warn=True)\n",
      "/anaconda3/lib/python3.6/site-packages/sklearn/neural_network/multilayer_perceptron.py:1306: DataConversionWarning: A column-vector y was passed when a 1d array was expected. Please change the shape of y to (n_samples, ), for example using ravel().\n",
      "  y = column_or_1d(y, warn=True)\n",
      "/anaconda3/lib/python3.6/site-packages/sklearn/neural_network/multilayer_perceptron.py:1306: DataConversionWarning: A column-vector y was passed when a 1d array was expected. Please change the shape of y to (n_samples, ), for example using ravel().\n",
      "  y = column_or_1d(y, warn=True)\n",
      "/anaconda3/lib/python3.6/site-packages/sklearn/neural_network/multilayer_perceptron.py:1306: DataConversionWarning: A column-vector y was passed when a 1d array was expected. Please change the shape of y to (n_samples, ), for example using ravel().\n",
      "  y = column_or_1d(y, warn=True)\n",
      "/anaconda3/lib/python3.6/site-packages/sklearn/neural_network/multilayer_perceptron.py:1306: DataConversionWarning: A column-vector y was passed when a 1d array was expected. Please change the shape of y to (n_samples, ), for example using ravel().\n",
      "  y = column_or_1d(y, warn=True)\n",
      "/anaconda3/lib/python3.6/site-packages/sklearn/neural_network/multilayer_perceptron.py:1306: DataConversionWarning: A column-vector y was passed when a 1d array was expected. Please change the shape of y to (n_samples, ), for example using ravel().\n",
      "  y = column_or_1d(y, warn=True)\n",
      "/anaconda3/lib/python3.6/site-packages/sklearn/neural_network/multilayer_perceptron.py:1306: DataConversionWarning: A column-vector y was passed when a 1d array was expected. Please change the shape of y to (n_samples, ), for example using ravel().\n",
      "  y = column_or_1d(y, warn=True)\n",
      "/anaconda3/lib/python3.6/site-packages/sklearn/neural_network/multilayer_perceptron.py:1306: DataConversionWarning: A column-vector y was passed when a 1d array was expected. Please change the shape of y to (n_samples, ), for example using ravel().\n",
      "  y = column_or_1d(y, warn=True)\n"
     ]
    },
    {
     "name": "stdout",
     "output_type": "stream",
     "text": [
      "0.340926938384\n"
     ]
    }
   ],
   "source": [
    "from sklearn.model_selection import KFold\n",
    "\n",
    "df2= pd.read_csv('student-por-prepro.csv')\n",
    "array = df2.values\n",
    "x=df2[['age','school_GP','Medu','Mjob','Fjob','traveltime','famrel','Walc','goout','G2']]\n",
    "y=array[:,-1].reshape(-1,1)\n",
    "       \n",
    "scaler=StandardScaler()\n",
    "X=scaler.fit(x).transform(x)\n",
    "Y=scaler.fit(y).transform(y)\n",
    "X_train, X_test, Y_train, Y_test = train_test_split(X, Y, test_size=0.2, random_state=7)\n",
    "\n",
    "model = MLPRegressor(solver='lbfgs', alpha=1e-5,hidden_layer_sizes=(4, 1), random_state=1)\n",
    "    \n",
    "kfold = KFold(n_splits=10, random_state=20)\n",
    "scoring = 'neg_mean_squared_error' \n",
    "results = cross_val_score(model, X_train, Y_train, cv=kfold, scoring=scoring)\n",
    "\n",
    "model.fit(X_train,Y_train)\n",
    "y_pre = model.predict(X_test)\n",
    "RMSE=mean_squared_error(y_pre,Y_test)**0.5\n",
    "print(RMSE)\n"
   ]
  },
  {
   "cell_type": "markdown",
   "metadata": {},
   "source": [
    "Linear Regression"
   ]
  },
  {
   "cell_type": "code",
   "execution_count": 29,
   "metadata": {},
   "outputs": [
    {
     "name": "stderr",
     "output_type": "stream",
     "text": [
      "/anaconda3/lib/python3.6/site-packages/sklearn/utils/validation.py:475: DataConversionWarning: Data with input dtype int64 was converted to float64 by StandardScaler.\n",
      "  warnings.warn(msg, DataConversionWarning)\n"
     ]
    },
    {
     "name": "stdout",
     "output_type": "stream",
     "text": [
      "0.31062066174\n"
     ]
    }
   ],
   "source": [
    "from sklearn.model_selection import KFold\n",
    "\n",
    "df2= pd.read_csv('student-por-prepro.csv')\n",
    "array = df2.values\n",
    "x=df2[['address_U','studytime','Fjob','traveltime','absences','Dalc','goout','G1','G2']]\n",
    "\n",
    "y=array[:,-1].reshape(-1,1)\n",
    "    \n",
    "\n",
    "scaler=StandardScaler()\n",
    "X=scaler.fit(x).transform(x)\n",
    "Y=scaler.fit(y).transform(y)\n",
    "   \n",
    "X_train, X_test, Y_train, Y_test = train_test_split(X, Y, test_size=0.2, random_state=7)\n",
    "    \n",
    "    \n",
    "    \n",
    "model = LinearRegression()\n",
    "\n",
    "\n",
    "kfold = KFold(n_splits=10, random_state=20)\n",
    "scoring = 'neg_mean_squared_error' \n",
    "results = cross_val_score(model, X_train, Y_train, cv=kfold, scoring=scoring)\n",
    "\n",
    "    #model fitting\n",
    "model.fit(X_train, Y_train)\n",
    "    \n",
    "    #prediction data\n",
    "y_pre=model.predict(X_test)\n",
    "    \n",
    "    \n",
    "    #calculateion of RMSE\n",
    "\n",
    "RMSE=mean_squared_error(y_pre,Y_test)**0.5\n",
    "print(RMSE)\n"
   ]
  },
  {
   "cell_type": "code",
   "execution_count": 30,
   "metadata": {},
   "outputs": [
    {
     "data": {
      "image/png": "[encoded data removed]",
      "text/plain": [
       "<matplotlib.figure.Figure at 0x1a1b7dc3c8>"
      ]
     },
     "metadata": {},
     "output_type": "display_data"
    }
   ],
   "source": [
    "fig, ax= plt.subplots()\n",
    "ax.scatter(Y_test, y_pre, edgecolors=(0, 0, 0))\n",
    "ax.plot([Y_test.min(),Y_test.max()], [Y_test.min(),Y_test.max()], 'k-', lw=1)\n",
    "ax.set_xlabel('Desired')\n",
    "ax.set_ylabel('Predicted')\n",
    "plt.show()"
   ]
  },
  {
   "cell_type": "code",
   "execution_count": null,
   "metadata": {
    "collapsed": true
   },
   "outputs": [],
   "source": []
  }
 ],
 "metadata": {
  "kernelspec": {
   "display_name": "Python 3",
   "language": "python",
   "name": "python3"
  },
  "language_info": {
   "codemirror_mode": {
    "name": "ipython",
    "version": 3
   },
   "file_extension": ".py",
   "mimetype": "text/x-python",
   "name": "python",
   "nbconvert_exporter": "python",
   "pygments_lexer": "ipython3",
   "version": "3.6.3"
  }
 },
 "nbformat": 4,
 "nbformat_minor": 2
}
