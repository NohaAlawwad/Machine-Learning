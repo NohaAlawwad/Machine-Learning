{
 "cells": [
  {
   "cell_type": "markdown",
   "metadata": {},
   "source": [
    "Import all the needed libraries:"
   ]
  },
  {
   "cell_type": "code",
   "execution_count": 42,
   "metadata": {
    "collapsed": true
   },
   "outputs": [],
   "source": [
    "import pandas as pd\n",
    "from sklearn import model_selection\n",
    "from sklearn.linear_model import LogisticRegression\n",
    "from sklearn.model_selection import KFold\n",
    "from sklearn.model_selection import train_test_split\n",
    "from sklearn.model_selection import cross_val_predict\n",
    "from sklearn.metrics import mean_squared_error\n",
    "from sklearn.model_selection import cross_val_score\n",
    "from sklearn.metrics import accuracy_score\n",
    "from sklearn.metrics import confusion_matrix\n",
    "from sklearn.preprocessing import StandardScaler\n",
    "from sklearn.neighbors import KNeighborsRegressor\n",
    "from sklearn.neighbors import KNeighborsClassifier \n",
    "from sklearn.naive_bayes import GaussianNB\n",
    "from sklearn.svm import SVR\n",
    "from sklearn.tree import DecisionTreeClassifier\n",
    "from sklearn.svm import SVC\n",
    "from sklearn.neural_network import MLPRegressor\n",
    "from sklearn.tree import DecisionTreeRegressor\n",
    "from sklearn.ensemble import RandomForestClassifier\n",
    "from sklearn.ensemble import RandomForestRegressor\n",
    "from sklearn.linear_model import LinearRegression\n",
    "from sklearn.neural_network import MLPClassifier\n",
    "from sklearn.neural_network import MLPRegressor\n",
    "import matplotlib.pyplot as plt"
   ]
  },
  {
   "cell_type": "markdown",
   "metadata": {},
   "source": [
    "Logistic Regression Algorithm "
   ]
  },
  {
   "cell_type": "code",
   "execution_count": 5,
   "metadata": {},
   "outputs": [
    {
     "name": "stdout",
     "output_type": "stream",
     "text": [
      "93.0555555556\n",
      "[[15  2]\n",
      " [ 3 52]]\n"
     ]
    }
   ],
   "source": [
    "from sklearn.model_selection import KFold\n",
    "\n",
    "df2 = pd.read_csv(\"student-mat-csv-CattG3-2.csv\")\n",
    "array = df2.values\n",
    "x = df2[['age', 'paid_YES', 'Mjob','Fjob','famrel','G2']]\n",
    "Y = array[:,-1]\n",
    "scaler=StandardScaler()\n",
    "X=scaler.fit(x).transform(x)\n",
    "KFold = KFold(n_splits=10,random_state=20)\n",
    "model= LogisticRegression()\n",
    "X_train,X_test, Y_train, Y_test = train_test_split (X, Y, test_size =.20, random_state=20)\n",
    "results = cross_val_score(model,X_train,Y_train,cv=KFold)\n",
    "model.fit(X_train,Y_train)\n",
    "y_pre= model.predict(X_test)\n",
    "print((accuracy_score(y_pre,Y_test)*100))\n",
    "predicted = model.predict(X_test) \n",
    "matrix = confusion_matrix(Y_test, predicted)\n",
    "print(matrix)"
   ]
  },
  {
   "cell_type": "markdown",
   "metadata": {},
   "source": [
    "KNeighborsRegressor Algorithm"
   ]
  },
  {
   "cell_type": "code",
   "execution_count": 6,
   "metadata": {},
   "outputs": [
    {
     "name": "stdout",
     "output_type": "stream",
     "text": [
      "0.310415961368\n"
     ]
    },
    {
     "name": "stderr",
     "output_type": "stream",
     "text": [
      "/anaconda3/lib/python3.6/site-packages/sklearn/utils/validation.py:475: DataConversionWarning: Data with input dtype int64 was converted to float64 by StandardScaler.\n",
      "  warnings.warn(msg, DataConversionWarning)\n"
     ]
    }
   ],
   "source": [
    "from sklearn.model_selection import KFold\n",
    "\n",
    "df2 = pd.read_csv(\"student-mat-prepro.csv\")\n",
    "array = df2.values\n",
    "X =df2[['G1','G2','famrel','absences','freetime','age']]\n",
    "Y = array[:,-1].reshape(-1,1)\n",
    "scaler=StandardScaler()\n",
    "x=scaler.fit(X).transform(X)\n",
    "y=scaler.fit(Y).transform(Y)\n",
    "KFold = KFold(n_splits=10,random_state=20)\n",
    "model= KNeighborsRegressor()\n",
    "X_train,X_test, Y_train, Y_test = train_test_split (x, y, test_size =.20, random_state=20)\n",
    "model.fit(X_train,Y_train)\n",
    "predicted = model.predict(X_test)\n",
    "RMSE=mean_squared_error(predicted,Y_test)**0.5\n",
    "print(RMSE)"
   ]
  },
  {
   "cell_type": "markdown",
   "metadata": {},
   "source": [
    "KNeighborsClassifier Algorithm"
   ]
  },
  {
   "cell_type": "code",
   "execution_count": 7,
   "metadata": {},
   "outputs": [
    {
     "name": "stdout",
     "output_type": "stream",
     "text": [
      "87.5\n",
      "[[13  4]\n",
      " [ 5 50]]\n"
     ]
    }
   ],
   "source": [
    "from sklearn.model_selection import KFold\n",
    "\n",
    "df2 = pd.read_csv(\"student-mat-csv-CattG3-2.csv\")\n",
    "array = df2.values\n",
    "X =df2[['G1','G2','famrel','absences','freetime','age']]\n",
    "scaler=StandardScaler()\n",
    "x=scaler.fit(X).transform(X)\n",
    "Y = array[:,-1]\n",
    "KFold = KFold(n_splits=10,random_state=20)\n",
    "model= KNeighborsClassifier()\n",
    "X_train,X_test, Y_train, Y_test = train_test_split (x, Y, test_size =.20, random_state=20)\n",
    "results = cross_val_score(model,X_train,Y_train,cv=KFold)\n",
    "model.fit(X_train,Y_train)\n",
    "y_pre= model.predict(X_test)\n",
    "print((accuracy_score(y_pre,Y_test)*100))\n",
    "predicted = model.predict(X_test) \n",
    "matrix = confusion_matrix(Y_test, predicted)\n",
    "print(matrix)"
   ]
  },
  {
   "cell_type": "markdown",
   "metadata": {},
   "source": [
    "GaussianNB Algorithm (classification)"
   ]
  },
  {
   "cell_type": "code",
   "execution_count": 8,
   "metadata": {},
   "outputs": [
    {
     "name": "stdout",
     "output_type": "stream",
     "text": [
      "84.7222222222\n",
      "[[15  2]\n",
      " [ 9 46]]\n"
     ]
    }
   ],
   "source": [
    "from sklearn.model_selection import KFold\n",
    "\n",
    "df2 = pd.read_csv(\"student-mat-csv-CattG3-2.csv\")\n",
    "array = df2.values\n",
    "X = df2[['G1','G2', 'schoolsup_YES','address_U']]\n",
    "Y = array[:,-1]\n",
    "KFold = KFold(n_splits=10,random_state=20)\n",
    "model= GaussianNB()\n",
    "X_train,X_test, Y_train, Y_test = train_test_split (X, Y, test_size =.20, random_state=20)\n",
    "results = cross_val_score(model,X_train,Y_train,cv=KFold)\n",
    "model.fit(X_train,Y_train)\n",
    "y_pre= model.predict(X_test)\n",
    "print((accuracy_score(y_pre,Y_test)*100))\n",
    "predicted = model.predict(X_test) \n",
    "matrix = confusion_matrix(Y_test, predicted)\n",
    "print(matrix)"
   ]
  },
  {
   "cell_type": "markdown",
   "metadata": {},
   "source": [
    "GaussianNB Algorithm (Regression)"
   ]
  },
  {
   "cell_type": "code",
   "execution_count": 9,
   "metadata": {},
   "outputs": [
    {
     "name": "stdout",
     "output_type": "stream",
     "text": [
      "1.13651514142\n"
     ]
    }
   ],
   "source": [
    "from sklearn.model_selection import KFold\n",
    "\n",
    "df2 = pd.read_csv(\"student-mat-prepro.csv\")\n",
    "array = df2.values\n",
    "X = df2[['G1','G2', 'schoolsup_YES','address_U']]\n",
    "Y = array[:,-1]\n",
    "KFold = KFold(n_splits=10,random_state=20)\n",
    "model= GaussianNB()\n",
    "X_train,X_test, Y_train, Y_test = train_test_split (X, Y, test_size =.20, random_state=20)\n",
    "model.fit(X_train,Y_train)\n",
    "predicted = model.predict(X_test)\n",
    "RMSE=mean_squared_error(predicted,Y_test)**0.5\n",
    "print(RMSE)"
   ]
  },
  {
   "cell_type": "markdown",
   "metadata": {},
   "source": [
    "SVM Algorithm (classification)"
   ]
  },
  {
   "cell_type": "code",
   "execution_count": 21,
   "metadata": {},
   "outputs": [
    {
     "name": "stdout",
     "output_type": "stream",
     "text": [
      "87.5\n",
      "[[12  5]\n",
      " [ 4 51]]\n"
     ]
    }
   ],
   "source": [
    "from sklearn.model_selection import KFold\n",
    "df2 = pd.read_csv(\"student-mat-csv-CattG3-2.csv\")\n",
    "array = df2.values\n",
    "X =df2[['age','paid_YES','G1','G2','nursery_YES']]\n",
    "Y = array[:,-1]\n",
    "KFold = KFold(n_splits=10,random_state=20)\n",
    "model= SVC()\n",
    "X_train,X_test, Y_train, Y_test = train_test_split (X, Y, test_size =.20, random_state=20)\n",
    "results = cross_val_score(model,X_train,Y_train,cv=KFold)\n",
    "model.fit(X_train,Y_train)\n",
    "y_pre= model.predict(X_test)\n",
    "print((accuracy_score(y_pre,Y_test)*100))\n",
    "predicted = model.predict(X_test) \n",
    "matrix = confusion_matrix(Y_test, predicted)\n",
    "print(matrix)"
   ]
  },
  {
   "cell_type": "markdown",
   "metadata": {},
   "source": [
    "SVM Algorithm (Regression)"
   ]
  },
  {
   "cell_type": "code",
   "execution_count": 13,
   "metadata": {},
   "outputs": [
    {
     "name": "stdout",
     "output_type": "stream",
     "text": [
      "1.04967310801\n"
     ]
    }
   ],
   "source": [
    "from sklearn.model_selection import KFold\n",
    "\n",
    "df2 = pd.read_csv(\"student-mat-prepro.csv\")\n",
    "array = df2.values\n",
    "X =df2[['age','paid_YES','G1','G2','nursery_YES']]\n",
    "Y = array[:,-1]\n",
    "KFold = KFold(n_splits=10,random_state=20)\n",
    "model= SVR()\n",
    "X_train,X_test, Y_train, Y_test = train_test_split (X, Y, test_size =.20, random_state=20)\n",
    "model.fit(X_train,Y_train)\n",
    "predicted = model.predict(X_test)\n",
    "RMSE=mean_squared_error(predicted,Y_test)**0.5\n",
    "print(RMSE)"
   ]
  },
  {
   "cell_type": "markdown",
   "metadata": {},
   "source": [
    "DDT Algorithm (classification)"
   ]
  },
  {
   "cell_type": "code",
   "execution_count": 23,
   "metadata": {},
   "outputs": [
    {
     "name": "stdout",
     "output_type": "stream",
     "text": [
      "93.0555555556\n",
      "[[16  1]\n",
      " [ 4 51]]\n"
     ]
    }
   ],
   "source": [
    "from sklearn.model_selection import KFold\n",
    "\n",
    "df2 = pd.read_csv(\"student-mat-csv-CattG3-2.csv\")\n",
    "array = df2.values\n",
    "X = df2[['G2','Fedu','famrel']]\n",
    "Y = array[:,-1]\n",
    "KFold = KFold(n_splits=10,random_state=20)\n",
    "model= DecisionTreeClassifier()\n",
    "X_train,X_test, Y_train, Y_test = train_test_split (X, Y, test_size =.20, random_state=20)\n",
    "results = cross_val_score(model,X_train,Y_train,cv=KFold)\n",
    "model.fit(X_train,Y_train)\n",
    "y_pre= model.predict(X_test)\n",
    "print((accuracy_score(y_pre,Y_test)*100))\n",
    "predicted = model.predict(X_test) \n",
    "matrix = confusion_matrix(Y_test, predicted)\n",
    "print(matrix)"
   ]
  },
  {
   "cell_type": "markdown",
   "metadata": {},
   "source": [
    "DDT Algorithm (Regression)"
   ]
  },
  {
   "cell_type": "code",
   "execution_count": 26,
   "metadata": {},
   "outputs": [
    {
     "name": "stdout",
     "output_type": "stream",
     "text": [
      "0.251124996167\n"
     ]
    }
   ],
   "source": [
    "from sklearn.model_selection import KFold\n",
    "\n",
    "df2 = pd.read_csv(\"student-mat-csv-CattG3-2.csv\")\n",
    "array = df2.values\n",
    "X = df2[['G2','Fedu','famrel']]\n",
    "Y = array[:,-1]\n",
    "KFold = KFold(n_splits=10,random_state=20)\n",
    "model= DecisionTreeRegressor()\n",
    "X_train,X_test, Y_train, Y_test = train_test_split (X, Y, test_size =.20, random_state=20)\n",
    "results = cross_val_score(model,X_train,Y_train,cv=KFold)\n",
    "model.fit(X_train,Y_train)\n",
    "predicted = model.predict(X_test)\n",
    "RMSE=mean_squared_error(predicted,Y_test)**0.5\n",
    "print(RMSE)"
   ]
  },
  {
   "cell_type": "markdown",
   "metadata": {},
   "source": [
    "RF Algorithm (classification)"
   ]
  },
  {
   "cell_type": "code",
   "execution_count": 30,
   "metadata": {},
   "outputs": [
    {
     "name": "stdout",
     "output_type": "stream",
     "text": [
      "91.6666666667\n",
      "[[16  1]\n",
      " [ 5 50]]\n"
     ]
    }
   ],
   "source": [
    "from sklearn.model_selection import KFold\n",
    "\n",
    "df2 = pd.read_csv(\"student-mat-csv-CattG3-2.csv\")\n",
    "array = df2.values\n",
    "X = df2[['G2','famrel','absences','goout','age','Medu']]\n",
    "Y = array[:,-1]\n",
    "KFold = KFold(n_splits=10,random_state=20)\n",
    "model= RandomForestClassifier()\n",
    "X_train,X_test, Y_train, Y_test = train_test_split (X, Y, test_size =.20, random_state=20)\n",
    "results = cross_val_score(model,X_train,Y_train,cv=KFold)\n",
    "model.fit(X_train,Y_train)\n",
    "y_pre= model.predict(X_test)\n",
    "print((accuracy_score(y_pre,Y_test)*100))\n",
    "predicted = model.predict(X_test) \n",
    "matrix = confusion_matrix(Y_test, predicted)\n",
    "print(matrix)"
   ]
  },
  {
   "cell_type": "markdown",
   "metadata": {},
   "source": [
    "RF Algorithm (Regression)"
   ]
  },
  {
   "cell_type": "code",
   "execution_count": 37,
   "metadata": {},
   "outputs": [
    {
     "name": "stderr",
     "output_type": "stream",
     "text": [
      "/anaconda3/lib/python3.6/site-packages/sklearn/model_selection/_validation.py:458: DataConversionWarning: A column-vector y was passed when a 1d array was expected. Please change the shape of y to (n_samples,), for example using ravel().\n",
      "  estimator.fit(X_train, y_train, **fit_params)\n",
      "/anaconda3/lib/python3.6/site-packages/sklearn/model_selection/_validation.py:458: DataConversionWarning: A column-vector y was passed when a 1d array was expected. Please change the shape of y to (n_samples,), for example using ravel().\n",
      "  estimator.fit(X_train, y_train, **fit_params)\n",
      "/anaconda3/lib/python3.6/site-packages/sklearn/model_selection/_validation.py:458: DataConversionWarning: A column-vector y was passed when a 1d array was expected. Please change the shape of y to (n_samples,), for example using ravel().\n",
      "  estimator.fit(X_train, y_train, **fit_params)\n",
      "/anaconda3/lib/python3.6/site-packages/sklearn/model_selection/_validation.py:458: DataConversionWarning: A column-vector y was passed when a 1d array was expected. Please change the shape of y to (n_samples,), for example using ravel().\n",
      "  estimator.fit(X_train, y_train, **fit_params)\n",
      "/anaconda3/lib/python3.6/site-packages/sklearn/model_selection/_validation.py:458: DataConversionWarning: A column-vector y was passed when a 1d array was expected. Please change the shape of y to (n_samples,), for example using ravel().\n",
      "  estimator.fit(X_train, y_train, **fit_params)\n",
      "/anaconda3/lib/python3.6/site-packages/sklearn/model_selection/_validation.py:458: DataConversionWarning: A column-vector y was passed when a 1d array was expected. Please change the shape of y to (n_samples,), for example using ravel().\n",
      "  estimator.fit(X_train, y_train, **fit_params)\n",
      "/anaconda3/lib/python3.6/site-packages/sklearn/model_selection/_validation.py:458: DataConversionWarning: A column-vector y was passed when a 1d array was expected. Please change the shape of y to (n_samples,), for example using ravel().\n",
      "  estimator.fit(X_train, y_train, **fit_params)\n",
      "/anaconda3/lib/python3.6/site-packages/sklearn/model_selection/_validation.py:458: DataConversionWarning: A column-vector y was passed when a 1d array was expected. Please change the shape of y to (n_samples,), for example using ravel().\n",
      "  estimator.fit(X_train, y_train, **fit_params)\n",
      "/anaconda3/lib/python3.6/site-packages/sklearn/model_selection/_validation.py:458: DataConversionWarning: A column-vector y was passed when a 1d array was expected. Please change the shape of y to (n_samples,), for example using ravel().\n",
      "  estimator.fit(X_train, y_train, **fit_params)\n",
      "/anaconda3/lib/python3.6/site-packages/sklearn/model_selection/_validation.py:458: DataConversionWarning: A column-vector y was passed when a 1d array was expected. Please change the shape of y to (n_samples,), for example using ravel().\n",
      "  estimator.fit(X_train, y_train, **fit_params)\n"
     ]
    },
    {
     "name": "stdout",
     "output_type": "stream",
     "text": [
      "0.875951863213\n"
     ]
    },
    {
     "name": "stderr",
     "output_type": "stream",
     "text": [
      "/anaconda3/lib/python3.6/site-packages/ipykernel_launcher.py:10: DataConversionWarning: A column-vector y was passed when a 1d array was expected. Please change the shape of y to (n_samples,), for example using ravel().\n",
      "  # Remove the CWD from sys.path while we load stuff.\n"
     ]
    }
   ],
   "source": [
    "from sklearn.model_selection import KFold\n",
    "df2 = pd.read_csv(\"student-mat-prepro.csv\")\n",
    "array = df2.values\n",
    "X = df2[['age','school_GP','Medu','Mjob','Fjob','traveltime','famrel','Walc','goout','G2']]\n",
    "Y = array[:,-1].reshape(-1,1)\n",
    "KFold = KFold(n_splits=10,random_state=20)\n",
    "model= RandomForestRegressor()\n",
    "X_train,X_test, Y_train, Y_test = train_test_split (X, Y, test_size =.20, random_state=20)\n",
    "results = cross_val_score(model,X_train,Y_train,cv=KFold)\n",
    "model.fit(X_train,Y_train)\n",
    "predicted = model.predict(X_test)\n",
    "RMSE=mean_squared_error(predicted,Y_test)**0.5\n",
    "print(RMSE)"
   ]
  },
  {
   "cell_type": "markdown",
   "metadata": {},
   "source": [
    "ANN (classification)"
   ]
  },
  {
   "cell_type": "code",
   "execution_count": 24,
   "metadata": {},
   "outputs": [
    {
     "name": "stderr",
     "output_type": "stream",
     "text": [
      "C:\\Users\\Acer\\Anaconda3\\lib\\site-packages\\sklearn\\neural_network\\multilayer_perceptron.py:912: DataConversionWarning: A column-vector y was passed when a 1d array was expected. Please change the shape of y to (n_samples, ), for example using ravel().\n",
      "  y = column_or_1d(y, warn=True)\n",
      "C:\\Users\\Acer\\Anaconda3\\lib\\site-packages\\sklearn\\neural_network\\multilayer_perceptron.py:912: DataConversionWarning: A column-vector y was passed when a 1d array was expected. Please change the shape of y to (n_samples, ), for example using ravel().\n",
      "  y = column_or_1d(y, warn=True)\n",
      "C:\\Users\\Acer\\Anaconda3\\lib\\site-packages\\sklearn\\neural_network\\multilayer_perceptron.py:912: DataConversionWarning: A column-vector y was passed when a 1d array was expected. Please change the shape of y to (n_samples, ), for example using ravel().\n",
      "  y = column_or_1d(y, warn=True)\n",
      "C:\\Users\\Acer\\Anaconda3\\lib\\site-packages\\sklearn\\neural_network\\multilayer_perceptron.py:912: DataConversionWarning: A column-vector y was passed when a 1d array was expected. Please change the shape of y to (n_samples, ), for example using ravel().\n",
      "  y = column_or_1d(y, warn=True)\n",
      "C:\\Users\\Acer\\Anaconda3\\lib\\site-packages\\sklearn\\neural_network\\multilayer_perceptron.py:912: DataConversionWarning: A column-vector y was passed when a 1d array was expected. Please change the shape of y to (n_samples, ), for example using ravel().\n",
      "  y = column_or_1d(y, warn=True)\n",
      "C:\\Users\\Acer\\Anaconda3\\lib\\site-packages\\sklearn\\neural_network\\multilayer_perceptron.py:912: DataConversionWarning: A column-vector y was passed when a 1d array was expected. Please change the shape of y to (n_samples, ), for example using ravel().\n",
      "  y = column_or_1d(y, warn=True)\n",
      "C:\\Users\\Acer\\Anaconda3\\lib\\site-packages\\sklearn\\neural_network\\multilayer_perceptron.py:912: DataConversionWarning: A column-vector y was passed when a 1d array was expected. Please change the shape of y to (n_samples, ), for example using ravel().\n",
      "  y = column_or_1d(y, warn=True)\n",
      "C:\\Users\\Acer\\Anaconda3\\lib\\site-packages\\sklearn\\neural_network\\multilayer_perceptron.py:912: DataConversionWarning: A column-vector y was passed when a 1d array was expected. Please change the shape of y to (n_samples, ), for example using ravel().\n",
      "  y = column_or_1d(y, warn=True)\n",
      "C:\\Users\\Acer\\Anaconda3\\lib\\site-packages\\sklearn\\neural_network\\multilayer_perceptron.py:912: DataConversionWarning: A column-vector y was passed when a 1d array was expected. Please change the shape of y to (n_samples, ), for example using ravel().\n",
      "  y = column_or_1d(y, warn=True)\n",
      "C:\\Users\\Acer\\Anaconda3\\lib\\site-packages\\sklearn\\neural_network\\multilayer_perceptron.py:912: DataConversionWarning: A column-vector y was passed when a 1d array was expected. Please change the shape of y to (n_samples, ), for example using ravel().\n",
      "  y = column_or_1d(y, warn=True)\n"
     ]
    },
    {
     "name": "stdout",
     "output_type": "stream",
     "text": [
      " Accuracy:90.278%\n",
      "[[20  3]\n",
      " [ 4 45]]\n"
     ]
    }
   ],
   "source": [
    "from sklearn.model_selection import KFold\n",
    "\n",
    "df2= pd.read_csv('student-mat-csv-CattG3-2.csv')\n",
    "array = df2.values\n",
    "x=df2[['school_GP','age','Mjob','Fjob','traveltime','Medu','famrel','goout','freetime','G2']]\n",
    "Y=array[:,-1].reshape(-1,1)\n",
    "scaler=StandardScaler()\n",
    "X=scaler.fit(x).transform(x)\n",
    "X_train, X_test, Y_train, Y_test = train_test_split(X, Y, test_size=0.2, random_state=7)\n",
    "    \n",
    "model = MLPClassifier(solver='lbfgs', alpha=1e-5,hidden_layer_sizes=(5, 2), random_state=1)\n",
    "   \n",
    "\n",
    "kfold = KFold(n_splits=10, random_state=20)\n",
    "results = cross_val_score(model, X_train, Y_train, cv=kfold)\n",
    "#print(\"Accuracy: %.3f%% (%.3f%%)\" % (results.mean()*100.0, results.std()*100.0))\n",
    "    \n",
    "    \n",
    "#print(\"test \")\n",
    "model.fit(X_train,Y_train)\n",
    "y_pre = model.predict(X_test)\n",
    "    \n",
    "print(\" Accuracy:%.3f%%\" % (accuracy_score(y_pre,Y_test)*100))\n",
    "matrix = confusion_matrix(Y_test, y_pre)\n",
    "print(matrix)\n"
   ]
  },
  {
   "cell_type": "markdown",
   "metadata": {},
   "source": [
    "ANN (regreisson)"
   ]
  },
  {
   "cell_type": "code",
   "execution_count": 39,
   "metadata": {},
   "outputs": [
    {
     "name": "stderr",
     "output_type": "stream",
     "text": [
      "/anaconda3/lib/python3.6/site-packages/sklearn/utils/validation.py:475: DataConversionWarning: Data with input dtype int64 was converted to float64 by StandardScaler.\n",
      "  warnings.warn(msg, DataConversionWarning)\n",
      "/anaconda3/lib/python3.6/site-packages/sklearn/neural_network/multilayer_perceptron.py:1306: DataConversionWarning: A column-vector y was passed when a 1d array was expected. Please change the shape of y to (n_samples, ), for example using ravel().\n",
      "  y = column_or_1d(y, warn=True)\n",
      "/anaconda3/lib/python3.6/site-packages/sklearn/neural_network/multilayer_perceptron.py:1306: DataConversionWarning: A column-vector y was passed when a 1d array was expected. Please change the shape of y to (n_samples, ), for example using ravel().\n",
      "  y = column_or_1d(y, warn=True)\n",
      "/anaconda3/lib/python3.6/site-packages/sklearn/neural_network/multilayer_perceptron.py:1306: DataConversionWarning: A column-vector y was passed when a 1d array was expected. Please change the shape of y to (n_samples, ), for example using ravel().\n",
      "  y = column_or_1d(y, warn=True)\n",
      "/anaconda3/lib/python3.6/site-packages/sklearn/neural_network/multilayer_perceptron.py:1306: DataConversionWarning: A column-vector y was passed when a 1d array was expected. Please change the shape of y to (n_samples, ), for example using ravel().\n",
      "  y = column_or_1d(y, warn=True)\n",
      "/anaconda3/lib/python3.6/site-packages/sklearn/neural_network/multilayer_perceptron.py:1306: DataConversionWarning: A column-vector y was passed when a 1d array was expected. Please change the shape of y to (n_samples, ), for example using ravel().\n",
      "  y = column_or_1d(y, warn=True)\n",
      "/anaconda3/lib/python3.6/site-packages/sklearn/neural_network/multilayer_perceptron.py:1306: DataConversionWarning: A column-vector y was passed when a 1d array was expected. Please change the shape of y to (n_samples, ), for example using ravel().\n",
      "  y = column_or_1d(y, warn=True)\n",
      "/anaconda3/lib/python3.6/site-packages/sklearn/neural_network/multilayer_perceptron.py:1306: DataConversionWarning: A column-vector y was passed when a 1d array was expected. Please change the shape of y to (n_samples, ), for example using ravel().\n",
      "  y = column_or_1d(y, warn=True)\n",
      "/anaconda3/lib/python3.6/site-packages/sklearn/neural_network/multilayer_perceptron.py:1306: DataConversionWarning: A column-vector y was passed when a 1d array was expected. Please change the shape of y to (n_samples, ), for example using ravel().\n",
      "  y = column_or_1d(y, warn=True)\n",
      "/anaconda3/lib/python3.6/site-packages/sklearn/neural_network/multilayer_perceptron.py:1306: DataConversionWarning: A column-vector y was passed when a 1d array was expected. Please change the shape of y to (n_samples, ), for example using ravel().\n",
      "  y = column_or_1d(y, warn=True)\n"
     ]
    },
    {
     "name": "stdout",
     "output_type": "stream",
     "text": [
      "0.266480440839\n"
     ]
    },
    {
     "name": "stderr",
     "output_type": "stream",
     "text": [
      "/anaconda3/lib/python3.6/site-packages/sklearn/neural_network/multilayer_perceptron.py:1306: DataConversionWarning: A column-vector y was passed when a 1d array was expected. Please change the shape of y to (n_samples, ), for example using ravel().\n",
      "  y = column_or_1d(y, warn=True)\n"
     ]
    }
   ],
   "source": [
    "from sklearn.model_selection import KFold\n",
    "\n",
    "df2= pd.read_csv('student-mat-prepro.csv')\n",
    "array = df2.values\n",
    "x=df2[['age','school_GP','Medu','Mjob','Fjob','traveltime','famrel','Walc','goout','G2']]\n",
    "y=array[:,-1].reshape(-1,1)\n",
    "\n",
    "scaler=StandardScaler()\n",
    "X=scaler.fit(x).transform(x)\n",
    "Y=scaler.fit(y).transform(y)\n",
    "X_train, X_test, Y_train, Y_test = train_test_split(X, Y, test_size=0.2, random_state=7)\n",
    "\n",
    "model = MLPRegressor(solver='lbfgs', alpha=1e-5,hidden_layer_sizes=(4, 1), random_state=1)\n",
    "    \n",
    "\n",
    "kfold = KFold(n_splits=10, random_state=20)\n",
    "scoring = 'neg_mean_squared_error' \n",
    "results = cross_val_score(model, X_train, Y_train, cv=kfold, scoring=scoring)\n",
    "\n",
    "    \n",
    "model.fit(X_train,Y_train)\n",
    "y_pre = model.predict(X_test)\n",
    "RMSE=mean_squared_error(y_pre,Y_test)**0.5\n",
    "print(RMSE)\n"
   ]
  },
  {
   "cell_type": "markdown",
   "metadata": {},
   "source": [
    "LinearRegression"
   ]
  },
  {
   "cell_type": "code",
   "execution_count": 40,
   "metadata": {},
   "outputs": [
    {
     "name": "stdout",
     "output_type": "stream",
     "text": [
      "0.238751803212\n"
     ]
    },
    {
     "name": "stderr",
     "output_type": "stream",
     "text": [
      "/anaconda3/lib/python3.6/site-packages/sklearn/utils/validation.py:475: DataConversionWarning: Data with input dtype int64 was converted to float64 by StandardScaler.\n",
      "  warnings.warn(msg, DataConversionWarning)\n"
     ]
    }
   ],
   "source": [
    "from sklearn.model_selection import KFold\n",
    "\n",
    "df2= pd.read_csv('student-mat-prepro.csv')\n",
    "array = df2.values\n",
    "x=df2[['address_U','studytime','Fjob','traveltime','absences','Dalc','goout','G1','G2']]\n",
    "\n",
    "y=array[:,-1].reshape(-1,1)\n",
    "    \n",
    "\n",
    "scaler=StandardScaler()\n",
    "X=scaler.fit(x).transform(x)\n",
    "Y=scaler.fit(y).transform(y)\n",
    "   \n",
    "X_train, X_test, Y_train, Y_test = train_test_split(X, Y, test_size=0.2, random_state=7)\n",
    "    \n",
    "    \n",
    "    \n",
    "model = LinearRegression()\n",
    "\n",
    "\n",
    "kfold = KFold(n_splits=10, random_state=20)\n",
    "scoring = 'neg_mean_squared_error' \n",
    "results = cross_val_score(model, X_train, Y_train, cv=kfold, scoring=scoring)\n",
    "\n",
    "    #model fitting\n",
    "model.fit(X_train, Y_train)\n",
    "    \n",
    "    #prediction data\n",
    "y_pre=model.predict(X_test)\n",
    "    \n",
    "    \n",
    "    # calculateion of RMSE\n",
    "\n",
    "RMSE=mean_squared_error(y_pre,Y_test)**0.5\n",
    "print(RMSE)"
   ]
  },
  {
   "cell_type": "code",
   "execution_count": 43,
   "metadata": {},
   "outputs": [
    {
     "data": {
      "image/png": "[encoded data removed]",
      "text/plain": [
       "<matplotlib.figure.Figure at 0x1a15b92278>"
      ]
     },
     "metadata": {},
     "output_type": "display_data"
    }
   ],
   "source": [
    "fig, ax= plt.subplots()\n",
    "ax.scatter(Y_test, y_pre, edgecolors=(0, 0, 0))\n",
    "ax.plot([Y_test.min(),Y_test.max()], [Y_test.min(),Y_test.max()], 'k-', lw=1)\n",
    "ax.set_xlabel('Desired')\n",
    "ax.set_ylabel('Predicted')\n",
    "plt.show()"
   ]
  },
  {
   "cell_type": "code",
   "execution_count": null,
   "metadata": {
    "collapsed": true
   },
   "outputs": [],
   "source": []
  }
 ],
 "metadata": {
  "kernelspec": {
   "display_name": "Python 3",
   "language": "python",
   "name": "python3"
  },
  "language_info": {
   "codemirror_mode": {
    "name": "ipython",
    "version": 3
   },
   "file_extension": ".py",
   "mimetype": "text/x-python",
   "name": "python",
   "nbconvert_exporter": "python",
   "pygments_lexer": "ipython3",
   "version": "3.6.3"
  }
 },
 "nbformat": 4,
 "nbformat_minor": 2
}
