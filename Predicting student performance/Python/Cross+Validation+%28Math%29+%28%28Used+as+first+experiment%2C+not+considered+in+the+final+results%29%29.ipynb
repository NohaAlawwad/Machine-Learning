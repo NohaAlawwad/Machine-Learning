{
 "cells": [
  {
   "cell_type": "code",
   "execution_count": 1,
   "metadata": {
    "collapsed": true
   },
   "outputs": [],
   "source": [
    "import pandas as pd\n",
    "import numpy as np\n",
    "\n",
    "from sklearn.model_selection import train_test_split\n",
    "from sklearn.model_selection import cross_val_score\n",
    "from sklearn.model_selection import cross_val_predict\n",
    "from sklearn.tree import DecisionTreeClassifier\n",
    "from sklearn.model_selection import KFold\n",
    "from sklearn.neural_network import MLPRegressor\n",
    "from sklearn.neural_network import MLPClassifier\n",
    "\n",
    "from sklearn.neighbors import KNeighborsRegressor\n",
    "from sklearn.neighbors import KNeighborsClassifier\n",
    "from sklearn.linear_model import LinearRegression\n",
    "from sklearn.linear_model import LogisticRegression\n",
    "from sklearn.tree import DecisionTreeRegressor\n",
    "from sklearn.metrics import mean_squared_error \n",
    "from sklearn.preprocessing import StandardScaler\n",
    "from sklearn.ensemble import RandomForestRegressor\n",
    "\n",
    "from sklearn.model_selection import train_test_split\n",
    "from sklearn.ensemble import RandomForestClassifier\n",
    "from sklearn import metrics\n",
    "from sklearn.metrics import accuracy_score\n",
    "\n",
    "import matplotlib.pyplot as plt\n",
    "from sklearn.svm import SVC\n",
    "from sklearn.svm import SVR\n",
    "\n",
    "% matplotlib notebook\n",
    "from sklearn.naive_bayes import GaussianNB \n"
   ]
  },
  {
   "cell_type": "markdown",
   "metadata": {},
   "source": [
    "KNN Algorithm (Regression)"
   ]
  },
  {
   "cell_type": "code",
   "execution_count": 2,
   "metadata": {
    "collapsed": true
   },
   "outputs": [],
   "source": [
    "math= pd.read_csv(\"student-mat-prepro.csv\")\n",
    "df2 = pd.read_csv(\"student-mat-csv-CattG3-2.csv\")\n"
   ]
  },
  {
   "cell_type": "code",
   "execution_count": 3,
   "metadata": {},
   "outputs": [
    {
     "name": "stdout",
     "output_type": "stream",
     "text": [
      "MSE: -1.139 (2.441)\n"
     ]
    },
    {
     "name": "stderr",
     "output_type": "stream",
     "text": [
      "/anaconda3/lib/python3.6/site-packages/sklearn/utils/validation.py:475: DataConversionWarning: Data with input dtype int64 was converted to float64 by StandardScaler.\n",
      "  warnings.warn(msg, DataConversionWarning)\n"
     ]
    }
   ],
   "source": [
    "array=math.values\n",
    "x=array[:,0:32]\n",
    "y=array[:,-1].reshape(-1, 1)\n",
    "scaler=StandardScaler()\n",
    "x_scaled=scaler.fit(x).transform(x)\n",
    "y_scaled=scaler.fit(y).transform(y)\n",
    "model = KNeighborsRegressor(metric=\"manhattan\")\n",
    "kfold = KFold(n_splits=10, random_state=20)\n",
    "xx = x_scaled[:,[31,30,0,16,10,11]]\n",
    "scoring = 'neg_mean_squared_error'\n",
    "results = cross_val_score(model, xx, y_scaled, cv=kfold, scoring=scoring)\n",
    "print(\"MSE: %.3f (%.3f)\" % (results.mean(), results.std()))"
   ]
  },
  {
   "cell_type": "markdown",
   "metadata": {},
   "source": [
    "KNN Algorithm (Classification)"
   ]
  },
  {
   "cell_type": "code",
   "execution_count": 4,
   "metadata": {},
   "outputs": [
    {
     "name": "stdout",
     "output_type": "stream",
     "text": [
      "Accuracy: 80.413% (6.741%)\n"
     ]
    },
    {
     "name": "stderr",
     "output_type": "stream",
     "text": [
      "/anaconda3/lib/python3.6/site-packages/sklearn/utils/validation.py:475: DataConversionWarning: Data with input dtype int64 was converted to float64 by StandardScaler.\n",
      "  warnings.warn(msg, DataConversionWarning)\n"
     ]
    }
   ],
   "source": [
    "array=df2.values\n",
    "x=array[:,0:32]\n",
    "y=array[:,-1]\n",
    "scaler=StandardScaler()\n",
    "x_scaled=scaler.fit(x).transform(x)\n",
    "model = KNeighborsClassifier(metric=\"manhattan\")\n",
    "kfold = KFold(n_splits=10, random_state=20)\n",
    "xx = x_scaled[:,[31,30,0,16,10,11]]\n",
    "results = cross_val_score(model, xx, y, cv=kfold)\n",
    "print(\"Accuracy: %.3f%% (%.3f%%)\" % (results.mean()*100.0, results.std()*100.0))"
   ]
  },
  {
   "cell_type": "markdown",
   "metadata": {},
   "source": [
    "Linear regression "
   ]
  },
  {
   "cell_type": "code",
   "execution_count": 5,
   "metadata": {},
   "outputs": [
    {
     "name": "stdout",
     "output_type": "stream",
     "text": [
      "-0.138317248601\n",
      "-0.137774663005\n",
      "-0.137287870235\n",
      "After Feature Selection .. \n",
      "-0.127022118338\n"
     ]
    }
   ],
   "source": [
    "\n",
    "array=math.values\n",
    "\n",
    "\n",
    "X = array[:,0:32]\n",
    "Y = array[:,-1]\n",
    "num_folds = 10\n",
    "seed = 20\n",
    "kfold = KFold(n_splits=num_folds, random_state=seed)\n",
    "model = LinearRegression()\n",
    "scoring = 'neg_mean_squared_error'\n",
    "results = cross_val_score(model, X, Y, scoring=scoring,cv=kfold)\n",
    "print(results.mean())\n",
    "\n",
    "\n",
    "X = array[:,0:31]\n",
    "Y = array[:,-1]\n",
    "num_folds = 10\n",
    "seed = 20\n",
    "kfold = KFold(n_splits=num_folds, random_state=seed)\n",
    "model = LinearRegression()\n",
    "scoring = 'neg_mean_squared_error'\n",
    "results = cross_val_score(model, X, Y, scoring=scoring,cv=kfold)\n",
    "print(results.mean())\n",
    "\n",
    "\n",
    "X = array[:,0:30]\n",
    "Y = array[:,-1]\n",
    "num_folds = 10\n",
    "seed = 20\n",
    "kfold = KFold(n_splits=num_folds, random_state=seed)\n",
    "model = LinearRegression()\n",
    "scoring = 'neg_mean_squared_error'\n",
    "results = cross_val_score(model, X, Y, scoring=scoring,cv=kfold)\n",
    "print(results.mean())\n",
    "\n",
    "\n",
    "print(\"After Feature Selection .. \")\n",
    "X = math[['address_U','Fjob', 'traveltime','Dalc','G1','G2','reason','failures','health']]\n",
    "Y = array[:,-1]\n",
    "num_folds = 10\n",
    "seed = 20\n",
    "kfold = KFold(n_splits=num_folds, random_state=seed)\n",
    "model = LinearRegression()\n",
    "scoring = 'neg_mean_squared_error'\n",
    "results = cross_val_score(model, X, Y, scoring=scoring,cv=kfold)\n",
    "print(results.mean())\n",
    "\n",
    "predicted = cross_val_predict(model, X, Y, cv=kfold)\n",
    "\n"
   ]
  },
  {
   "cell_type": "markdown",
   "metadata": {},
   "source": [
    "DDT Algorithm (Regression)"
   ]
  },
  {
   "cell_type": "code",
   "execution_count": 6,
   "metadata": {},
   "outputs": [
    {
     "name": "stdout",
     "output_type": "stream",
     "text": [
      "-0.0314285714286\n",
      "-0.0314285714286\n",
      "-0.0314285714286\n",
      "After Feature Selection .. \n",
      "-0.205755298429\n"
     ]
    }
   ],
   "source": [
    "array=math.values\n",
    " \n",
    "X = array[:,0:32]\n",
    "Y = array[:,-1]\n",
    "num_folds = 10\n",
    "seed = 20\n",
    "kfold = KFold(n_splits=num_folds, random_state=seed)\n",
    "model = DecisionTreeRegressor()\n",
    "scoring = 'neg_mean_squared_error'\n",
    "results = cross_val_score(model, X, Y, scoring=scoring,cv=kfold)\n",
    "print(results.mean())\n",
    "\n",
    "\n",
    "X = array[:,0:31]\n",
    "Y = array[:,-1]\n",
    "num_folds = 10\n",
    "seed = 20\n",
    "kfold = KFold(n_splits=num_folds, random_state=seed)\n",
    "model = DecisionTreeRegressor()\n",
    "scoring = 'neg_mean_squared_error'\n",
    "results = cross_val_score(model, X, Y, scoring=scoring,cv=kfold)\n",
    "print(results.mean())\n",
    "\n",
    "\n",
    "X = array[:,0:30]\n",
    "Y = array[:,-1]\n",
    "num_folds = 10\n",
    "seed = 20\n",
    "kfold = KFold(n_splits=num_folds, random_state=seed)\n",
    "model = DecisionTreeRegressor()\n",
    "scoring = 'neg_mean_squared_error'\n",
    "results = cross_val_score(model, X, Y, scoring=scoring,cv=kfold)\n",
    "print(results.mean())\n",
    "\n",
    "\n",
    "print(\"After Feature Selection .. \")\n",
    "X = math[['G2','Fedu','famrel']]\n",
    "Y = array[:,-1]\n",
    "num_folds = 10\n",
    "seed = 20\n",
    "kfold = KFold(n_splits=num_folds, random_state=seed)\n",
    "model = DecisionTreeRegressor()\n",
    "scoring = 'neg_mean_squared_error'\n",
    "results = cross_val_score(model, X, Y, scoring=scoring,cv=kfold)\n",
    "print(results.mean())"
   ]
  },
  {
   "cell_type": "markdown",
   "metadata": {},
   "source": [
    "ANN (Regression)"
   ]
  },
  {
   "cell_type": "code",
   "execution_count": 7,
   "metadata": {},
   "outputs": [
    {
     "name": "stderr",
     "output_type": "stream",
     "text": [
      "/anaconda3/lib/python3.6/site-packages/sklearn/utils/validation.py:475: DataConversionWarning: Data with input dtype int64 was converted to float64 by StandardScaler.\n",
      "  warnings.warn(msg, DataConversionWarning)\n",
      "/anaconda3/lib/python3.6/site-packages/sklearn/neural_network/multilayer_perceptron.py:1306: DataConversionWarning: A column-vector y was passed when a 1d array was expected. Please change the shape of y to (n_samples, ), for example using ravel().\n",
      "  y = column_or_1d(y, warn=True)\n",
      "/anaconda3/lib/python3.6/site-packages/sklearn/neural_network/multilayer_perceptron.py:1306: DataConversionWarning: A column-vector y was passed when a 1d array was expected. Please change the shape of y to (n_samples, ), for example using ravel().\n",
      "  y = column_or_1d(y, warn=True)\n",
      "/anaconda3/lib/python3.6/site-packages/sklearn/neural_network/multilayer_perceptron.py:1306: DataConversionWarning: A column-vector y was passed when a 1d array was expected. Please change the shape of y to (n_samples, ), for example using ravel().\n",
      "  y = column_or_1d(y, warn=True)\n",
      "/anaconda3/lib/python3.6/site-packages/sklearn/neural_network/multilayer_perceptron.py:1306: DataConversionWarning: A column-vector y was passed when a 1d array was expected. Please change the shape of y to (n_samples, ), for example using ravel().\n",
      "  y = column_or_1d(y, warn=True)\n",
      "/anaconda3/lib/python3.6/site-packages/sklearn/neural_network/multilayer_perceptron.py:1306: DataConversionWarning: A column-vector y was passed when a 1d array was expected. Please change the shape of y to (n_samples, ), for example using ravel().\n",
      "  y = column_or_1d(y, warn=True)\n",
      "/anaconda3/lib/python3.6/site-packages/sklearn/neural_network/multilayer_perceptron.py:1306: DataConversionWarning: A column-vector y was passed when a 1d array was expected. Please change the shape of y to (n_samples, ), for example using ravel().\n",
      "  y = column_or_1d(y, warn=True)\n",
      "/anaconda3/lib/python3.6/site-packages/sklearn/neural_network/multilayer_perceptron.py:1306: DataConversionWarning: A column-vector y was passed when a 1d array was expected. Please change the shape of y to (n_samples, ), for example using ravel().\n",
      "  y = column_or_1d(y, warn=True)\n",
      "/anaconda3/lib/python3.6/site-packages/sklearn/neural_network/multilayer_perceptron.py:1306: DataConversionWarning: A column-vector y was passed when a 1d array was expected. Please change the shape of y to (n_samples, ), for example using ravel().\n",
      "  y = column_or_1d(y, warn=True)\n",
      "/anaconda3/lib/python3.6/site-packages/sklearn/neural_network/multilayer_perceptron.py:1306: DataConversionWarning: A column-vector y was passed when a 1d array was expected. Please change the shape of y to (n_samples, ), for example using ravel().\n",
      "  y = column_or_1d(y, warn=True)\n",
      "/anaconda3/lib/python3.6/site-packages/sklearn/neural_network/multilayer_perceptron.py:1306: DataConversionWarning: A column-vector y was passed when a 1d array was expected. Please change the shape of y to (n_samples, ), for example using ravel().\n",
      "  y = column_or_1d(y, warn=True)\n"
     ]
    },
    {
     "data": {
      "text/plain": [
       "1.3507109072718526"
      ]
     },
     "execution_count": 7,
     "metadata": {},
     "output_type": "execute_result"
    }
   ],
   "source": [
    "array=math.values\n",
    "x=array[:,0:32]\n",
    "y=array[:,-1].reshape(-1, 1)\n",
    "from sklearn.preprocessing import StandardScaler\n",
    "scaler=StandardScaler()\n",
    "x_scaled=scaler.fit(x).transform(x)\n",
    "y_scaled=scaler.fit(y).transform(y)\n",
    "model = MLPRegressor(max_iter=1000,alpha=1)\n",
    "kfold = KFold(n_splits=10, random_state=20)\n",
    "xx = x_scaled[:,[31,29,0,1,3,4,7,10,11,12]]\n",
    "scoring = 'neg_mean_squared_error'\n",
    "results = cross_val_score(model, xx, y_scaled, cv=kfold, scoring=scoring)\n",
    "RMSE= mean_squared_error(predicted,y_scaled)**0.5\n",
    "RMSE"
   ]
  },
  {
   "cell_type": "markdown",
   "metadata": {},
   "source": [
    "ANN Algorithm (classification)"
   ]
  },
  {
   "cell_type": "code",
   "execution_count": 8,
   "metadata": {},
   "outputs": [
    {
     "name": "stderr",
     "output_type": "stream",
     "text": [
      "/anaconda3/lib/python3.6/site-packages/sklearn/utils/validation.py:475: DataConversionWarning: Data with input dtype int64 was converted to float64 by StandardScaler.\n",
      "  warnings.warn(msg, DataConversionWarning)\n"
     ]
    },
    {
     "name": "stdout",
     "output_type": "stream",
     "text": [
      "Accuracy: 84.921% (5.085%)\n"
     ]
    }
   ],
   "source": [
    "array=df2.values\n",
    "x=array[:,0:32]\n",
    "y=array[:,-1]\n",
    "scaler=StandardScaler()\n",
    "x_scaled=scaler.fit(x).transform(x)\n",
    "model = MLPClassifier(max_iter=1000,alpha=1)\n",
    "kfold = KFold(n_splits=10, random_state=20)\n",
    "xx = x_scaled[:,[31,29,0,1,3,4,7,10,11,12]]\n",
    "results = cross_val_score(model, xx, y, cv=kfold)\n",
    "print(\"Accuracy: %.3f%% (%.3f%%)\" % (results.mean()*100.0, results.std()*100.0))"
   ]
  },
  {
   "cell_type": "markdown",
   "metadata": {},
   "source": [
    "RF Algorithm (Classification)"
   ]
  },
  {
   "cell_type": "code",
   "execution_count": 9,
   "metadata": {},
   "outputs": [
    {
     "name": "stdout",
     "output_type": "stream",
     "text": [
      "math results\n",
      "result D\n",
      " 1-cross validation result---\n",
      "Accuracy: 96.079% (3.970%)\n",
      "result A\n",
      " 1-cross validation result---\n",
      "Accuracy: 96.079% (3.970%)\n",
      "result B\n",
      " 1-cross validation result---\n",
      "Accuracy: 96.079% (3.970%)\n",
      "result C\n",
      " 1-cross validation result---\n",
      "Accuracy: 96.079% (3.970%)\n"
     ]
    }
   ],
   "source": [
    "def RF(df2,set_name='D'):\n",
    "    array = math.values\n",
    "    if(set_name=='A'):\n",
    "        print(\"result A\")\n",
    "        X =array[:,0:31]\n",
    "        Y=array[:,32]\n",
    "    elif(set_name=='B'):\n",
    "        print(\"result B\")\n",
    "        X =array[:,0:30]\n",
    "   \n",
    "        Y=array[:,32]\n",
    "    elif(set_name=='C'):\n",
    "        print(\"result C\")\n",
    "        X =array[:,[0,1,2,3,4,5,6,7,8,9,10,11,12,13,14,15,16,17,18,19,20,21,22,23,24,25,26,27,28,29,31]]\n",
    "        Y=array[:,32]\n",
    "    else:\n",
    "        print(\"result D\")\n",
    "        X=math[['absences','age','famrel','G1','freetime','G2']]\n",
    "        Y=array[:,32]\n",
    "\n",
    " \n",
    "    \n",
    "    rf = RandomForestClassifier(n_estimators = 1000, random_state = 42)\n",
    "    print(\" 1-cross validation result---\")\n",
    "\n",
    "    kfold = KFold(n_splits=10, random_state=20)\n",
    "    results = cross_val_score(rf, X, Y, cv=kfold)\n",
    "    print(\"Accuracy: %.3f%% (%.3f%%)\" % (results.mean()*100.0, results.std()*100.0))\n",
    "print (\"math results\")\n",
    "RF(math)\n",
    "RF(math,'A')\n",
    "RF(math,'B')\n",
    "RF(math,'C')"
   ]
  },
  {
   "cell_type": "markdown",
   "metadata": {},
   "source": [
    "NB classification"
   ]
  },
  {
   "cell_type": "code",
   "execution_count": 10,
   "metadata": {},
   "outputs": [
    {
     "name": "stdout",
     "output_type": "stream",
     "text": [
      "A: Accuracy: 73.302% (17.124%)\n",
      "B: Accuracy: 68.508% (15.662%)\n",
      "C: Accuracy: 73.365% (6.474%)\n",
      "After Feature Selection .. \n",
      "Accuracy: 87.706% (4.661%)\n"
     ]
    }
   ],
   "source": [
    "array1 = df2.values\n",
    "X = array1[:,0:32]\n",
    "Y = array1[:,-1]\n",
    "num_folds = 10\n",
    "seed = 20\n",
    "kfold = KFold(n_splits=num_folds, random_state=seed)\n",
    "model = GaussianNB()\n",
    "results = cross_val_score(model, X, Y, cv=kfold)\n",
    "print(\"A: Accuracy: %.3f%% (%.3f%%)\" % (results.mean()*100.0, results.std()*100.0))\n",
    "\n",
    "## GaussianNB\n",
    "X = array1[:,0:31]\n",
    "Y = array1[:,-1]\n",
    "num_folds = 10\n",
    "seed = 20\n",
    "kfold = KFold(n_splits=num_folds, random_state=seed)\n",
    "model = GaussianNB()\n",
    "results = cross_val_score(model, X, Y, cv=kfold)\n",
    "print(\"B: Accuracy: %.3f%% (%.3f%%)\" % (results.mean()*100.0, results.std()*100.0))\n",
    "\n",
    "## GaussianNB\n",
    "X = array1[:,0:30]\n",
    "Y = array1[:,-1]\n",
    "num_folds = 10\n",
    "seed = 20\n",
    "kfold = KFold(n_splits=num_folds, random_state=seed)\n",
    "model = GaussianNB()\n",
    "results = cross_val_score(model, X, Y, cv=kfold)\n",
    "print(\"C: Accuracy: %.3f%% (%.3f%%)\" % (results.mean()*100.0, results.std()*100.0))\n",
    "\n",
    "print(\"After Feature Selection .. \")\n",
    "\n",
    "X = df2[['G1','G2', 'schoolsup_YES','address_U']]\n",
    "Y = array1[:,-1]\n",
    "num_folds = 10\n",
    "seed = 20\n",
    "kfold = KFold(n_splits=num_folds, random_state=seed)\n",
    "model = GaussianNB()\n",
    "results = cross_val_score(model, X, Y, cv=kfold)\n",
    "print(\"Accuracy: %.3f%% (%.3f%%)\" % (results.mean()*100.0, results.std()*100.0))"
   ]
  },
  {
   "cell_type": "markdown",
   "metadata": {},
   "source": [
    "Logistic Regression"
   ]
  },
  {
   "cell_type": "code",
   "execution_count": 11,
   "metadata": {},
   "outputs": [
    {
     "name": "stdout",
     "output_type": "stream",
     "text": [
      "A: Accuracy: 84.373% (5.928%)\n",
      "B: Accuracy: 74.833% (8.539%)\n",
      "C: Accuracy: 72.556% (6.763%)\n",
      "After Feature Selection .. \n",
      "Accuracy: 91.310% (3.412%)\n"
     ]
    }
   ],
   "source": [
    "array1 = df2.values\n",
    "X = array1[:,0:32]\n",
    "Y = array1[:,-1]\n",
    "num_folds = 10\n",
    "seed = 20\n",
    "kfold = KFold(n_splits=num_folds, random_state=seed)\n",
    "model = LogisticRegression()\n",
    "results = cross_val_score(model, X, Y, cv=kfold)\n",
    "print(\"A: Accuracy: %.3f%% (%.3f%%)\" % (results.mean()*100.0, results.std()*100.0))\n",
    "\n",
    "X = array1[:,0:31]\n",
    "Y = array1[:,-1]\n",
    "num_folds = 10\n",
    "seed = 20\n",
    "kfold = KFold(n_splits=num_folds, random_state=seed)\n",
    "model = LogisticRegression()\n",
    "results = cross_val_score(model, X, Y, cv=kfold)\n",
    "print(\"B: Accuracy: %.3f%% (%.3f%%)\" % (results.mean()*100.0, results.std()*100.0))\n",
    "\n",
    "X = array1[:,0:30]\n",
    "Y = array1[:,-1]\n",
    "num_folds = 10\n",
    "seed = 20\n",
    "kfold = KFold(n_splits=num_folds, random_state=seed)\n",
    "model = LogisticRegression()\n",
    "results = cross_val_score(model, X, Y, cv=kfold)\n",
    "print(\"C: Accuracy: %.3f%% (%.3f%%)\" % (results.mean()*100.0, results.std()*100.0))\n",
    "\n",
    "print(\"After Feature Selection .. \")\n",
    "\n",
    "X = math[['G2','age', 'paid_YES', 'Mjob','Fjob','famrel']]\n",
    "Y = array1[:,-1]\n",
    "num_folds = 10\n",
    "seed = 20\n",
    "kfold = KFold(n_splits=num_folds, random_state=seed)\n",
    "model = LogisticRegression()\n",
    "results = cross_val_score(model, X, Y, cv=kfold)\n",
    "print(\"Accuracy: %.3f%% (%.3f%%)\" % (results.mean()*100.0, results.std()*100.0))"
   ]
  },
  {
   "cell_type": "markdown",
   "metadata": {},
   "source": [
    "SVM Regression"
   ]
  },
  {
   "cell_type": "code",
   "execution_count": 13,
   "metadata": {},
   "outputs": [
    {
     "name": "stdout",
     "output_type": "stream",
     "text": [
      "A: Accuracy: -7.061% (9.197%)\n",
      "-0.196573421183\n",
      "B: Accuracy: -8.623% (9.380%)\n",
      "C: Accuracy: -8.523% (9.349%)\n",
      "After Feature Selection .. \n",
      "Accuracy: 51.372% (12.764%)\n",
      "-0.089002191879\n"
     ]
    }
   ],
   "source": [
    "X = array[:,0:32]\n",
    "Y = array[:,-1]\n",
    "num_folds = 10\n",
    "seed = 20\n",
    "kfold = KFold(n_splits=num_folds, random_state=seed)\n",
    "model = SVR()\n",
    "results = cross_val_score(model, X, Y, cv=kfold)\n",
    "print(\"A: Accuracy: %.3f%% (%.3f%%)\" % (results.mean()*100.0, results.std()*100.0))\n",
    "scoring = 'neg_mean_squared_error'\n",
    "results = cross_val_score(model, X, Y, scoring=scoring,cv=kfold)\n",
    "print(results.mean())\n",
    "X = array[:,0:31]\n",
    "Y = array[:,-1]\n",
    "num_folds = 10\n",
    "seed = 20\n",
    "kfold = KFold(n_splits=num_folds, random_state=seed)\n",
    "model = SVR()\n",
    "scoring = 'neg_mean_squared_error'\n",
    "results = cross_val_score(model, X, Y, cv=kfold)\n",
    "print(\"B: Accuracy: %.3f%% (%.3f%%)\" % (results.mean()*100.0, results.std()*100.0))\n",
    "\n",
    "X = array[:,0:30]\n",
    "Y = array[:,-1]\n",
    "num_folds = 10\n",
    "seed = 20\n",
    "kfold = KFold(n_splits=num_folds, random_state=seed)\n",
    "model = SVR()\n",
    "scoring = 'neg_mean_squared_error'\n",
    "results = cross_val_score(model, X, Y, cv=kfold)\n",
    "print(\"C: Accuracy: %.3f%% (%.3f%%)\" % (results.mean()*100.0, results.std()*100.0))\n",
    "\n",
    "print(\"After Feature Selection .. \")\n",
    "\n",
    "X= math[['age','Fedu', 'health', 'paid_YES', 'Mjob','Fjob','address_U','famrel','G1','absences','Dalc','schoolsup_YES','higher_YES','G2','nursery_YES','sex_F','famsize_GT3','Medu','reason','guardian','traveltime','failures']]\n",
    "Y = array[:,-1]\n",
    "num_folds = 10\n",
    "seed = 20\n",
    "kfold = KFold(n_splits=num_folds, random_state=seed)\n",
    "model = SVR()\n",
    "results = cross_val_score(model, X, Y, cv=kfold)\n",
    "print(\"Accuracy: %.3f%% (%.3f%%)\" % (results.mean()*100.0, results.std()*100.0))\n",
    "scoring = 'neg_mean_squared_error'\n",
    "results = cross_val_score(model, X, Y, scoring=scoring,cv=kfold)\n",
    "print(results.mean())"
   ]
  },
  {
   "cell_type": "markdown",
   "metadata": {},
   "source": [
    "DDT Regresssion"
   ]
  },
  {
   "cell_type": "code",
   "execution_count": 14,
   "metadata": {},
   "outputs": [
    {
     "name": "stdout",
     "output_type": "stream",
     "text": [
      "A: Accuracy: 79.857% (6.913%)\n",
      "B: Accuracy: 57.341% (15.609%)\n",
      "C: Accuracy: 58.698% (16.328%)\n",
      "After Feature Selection .. \n",
      "Accuracy: 91.310% (4.045%)\n"
     ]
    }
   ],
   "source": [
    "array1 = df2.values\n",
    "\n",
    "X = array1[:,0:32]\n",
    "Y = array1[:,-1]\n",
    "num_folds = 10\n",
    "seed = 20\n",
    "kfold = KFold(n_splits=num_folds, random_state=seed)\n",
    "model = DecisionTreeClassifier()\n",
    "results = cross_val_score(model, X, Y, cv=kfold)\n",
    "print(\"A: Accuracy: %.3f%% (%.3f%%)\" % (results.mean()*100.0, results.std()*100.0))\n",
    "\n",
    "X = array1[:,0:31]\n",
    "Y = array1[:,-1]\n",
    "num_folds = 10\n",
    "seed = 20\n",
    "kfold = KFold(n_splits=num_folds, random_state=seed)\n",
    "model = DecisionTreeClassifier()\n",
    "results = cross_val_score(model, X, Y, cv=kfold)\n",
    "print(\"B: Accuracy: %.3f%% (%.3f%%)\" % (results.mean()*100.0, results.std()*100.0))\n",
    "\n",
    "X = array1[:,0:30]\n",
    "Y = array1[:,-1]\n",
    "num_folds = 10\n",
    "seed = 20\n",
    "kfold = KFold(n_splits=num_folds, random_state=seed)\n",
    "model = DecisionTreeClassifier()\n",
    "results = cross_val_score(model, X, Y, cv=kfold)\n",
    "print(\"C: Accuracy: %.3f%% (%.3f%%)\" % (results.mean()*100.0, results.std()*100.0))\n",
    "\n",
    "print(\"After Feature Selection .. \")\n",
    "\n",
    "#X = df2[['G2','G1','Fedu','traveltime','absences','famrel']]\n",
    "X = df2[['G2','Fedu','famrel']]\n",
    "\n",
    "Y = array1[:,-1]\n",
    "num_folds = 10\n",
    "seed = 20\n",
    "kfold = KFold(n_splits=num_folds, random_state=seed)\n",
    "model = DecisionTreeClassifier()\n",
    "results = cross_val_score(model, X, Y, cv=kfold)\n",
    "print(\"Accuracy: %.3f%% (%.3f%%)\" % (results.mean()*100.0, results.std()*100.0))"
   ]
  },
  {
   "cell_type": "markdown",
   "metadata": {},
   "source": [
    "RF regression"
   ]
  },
  {
   "cell_type": "code",
   "execution_count": 15,
   "metadata": {},
   "outputs": [
    {
     "name": "stdout",
     "output_type": "stream",
     "text": [
      "-0.127437301587\n",
      "-0.207565079365\n",
      "-0.219821428571\n",
      "After Feature Selection .. \n",
      "-0.0833261904762\n"
     ]
    }
   ],
   "source": [
    "\n",
    "\n",
    "X = array[:,0:32]\n",
    "Y = array[:,-1]\n",
    "num_folds = 10\n",
    "seed = 20\n",
    "kfold = KFold(n_splits=num_folds, random_state=seed)\n",
    "model = RandomForestRegressor()\n",
    "results = cross_val_score(model, X, Y, cv=kfold)\n",
    "scoring = 'neg_mean_squared_error'\n",
    "results = cross_val_score(model, X, Y, scoring=scoring,cv=kfold)\n",
    "print(results.mean())\n",
    "X = array[:,0:31]\n",
    "Y = array[:,-1]\n",
    "num_folds = 10\n",
    "seed = 20\n",
    "kfold = KFold(n_splits=num_folds, random_state=seed)\n",
    "model = RandomForestRegressor()\n",
    "results = cross_val_score(model, X, Y, cv=kfold)\n",
    "scoring = 'neg_mean_squared_error'\n",
    "results = cross_val_score(model, X, Y, scoring=scoring,cv=kfold)\n",
    "print(results.mean())\n",
    "X = array[:,0:30]\n",
    "Y = array[:,-1]\n",
    "num_folds = 10\n",
    "seed = 20\n",
    "kfold = KFold(n_splits=num_folds, random_state=seed)\n",
    "model = RandomForestRegressor()\n",
    "results = cross_val_score(model, X, Y, cv=kfold)\n",
    "scoring = 'neg_mean_squared_error'\n",
    "results = cross_val_score(model, X, Y, scoring=scoring,cv=kfold)\n",
    "print(results.mean())\n",
    "print(\"After Feature Selection .. \")\n",
    "\n",
    "#X = df2[['G2','G1','Fedu','traveltime','absences','famrel']]\n",
    "X = math[['G2','famrel','absences','goout','age','Medu']]\n",
    "Y = array[:,-1]\n",
    "num_folds = 10\n",
    "seed = 20\n",
    "kfold = KFold(n_splits=num_folds, random_state=seed)\n",
    "model = RandomForestRegressor()\n",
    "results = cross_val_score(model, X, Y, cv=kfold)\n",
    "scoring = 'neg_mean_squared_error'\n",
    "results = cross_val_score(model, X, Y, scoring=scoring,cv=kfold)\n",
    "print(results.mean())"
   ]
  },
  {
   "cell_type": "markdown",
   "metadata": {},
   "source": [
    "NB regression"
   ]
  },
  {
   "cell_type": "code",
   "execution_count": 16,
   "metadata": {},
   "outputs": [
    {
     "name": "stdout",
     "output_type": "stream",
     "text": [
      "-0.266984126984\n",
      "-0.314920634921\n",
      "-0.266349206349\n",
      "After Feature Selection .. \n",
      "-0.122936507937\n"
     ]
    }
   ],
   "source": [
    "\n",
    "X = array[:,0:32]\n",
    "Y = array[:,-1]\n",
    "num_folds = 10\n",
    "seed = 20\n",
    "kfold = KFold(n_splits=num_folds, random_state=seed)\n",
    "model = GaussianNB()\n",
    "results = cross_val_score(model, X, Y, cv=kfold)\n",
    "scoring = 'neg_mean_squared_error'\n",
    "results = cross_val_score(model, X, Y, scoring=scoring,cv=kfold)\n",
    "print(results.mean())\n",
    "## GaussianNB\n",
    "X = array[:,0:31]\n",
    "Y = array[:,-1]\n",
    "num_folds = 10\n",
    "seed = 20\n",
    "kfold = KFold(n_splits=num_folds, random_state=seed)\n",
    "model = GaussianNB()\n",
    "results = cross_val_score(model, X, Y, cv=kfold)\n",
    "scoring = 'neg_mean_squared_error'\n",
    "results = cross_val_score(model, X, Y, scoring=scoring,cv=kfold)\n",
    "print(results.mean())\n",
    "## GaussianNB\n",
    "X = array[:,0:30]\n",
    "Y = array[:,-1]\n",
    "num_folds = 10\n",
    "seed = 20\n",
    "kfold = KFold(n_splits=num_folds, random_state=seed)\n",
    "model = GaussianNB()\n",
    "results = cross_val_score(model, X, Y, cv=kfold)\n",
    "scoring = 'neg_mean_squared_error'\n",
    "results = cross_val_score(model, X, Y, scoring=scoring,cv=kfold)\n",
    "print(results.mean())\n",
    "print(\"After Feature Selection .. \")\n",
    "\n",
    "#X = df2[['famsize_GT3','Pstatus_T', 'schoolsup_YES', 'paid_YES', 'nursery_YES','G2']]\n",
    "X = math[['G1','G2', 'schoolsup_YES','address_U']]\n",
    "Y = array[:,-1]\n",
    "num_folds = 10\n",
    "seed = 20\n",
    "kfold = KFold(n_splits=num_folds, random_state=seed)\n",
    "model = GaussianNB()\n",
    "results = cross_val_score(model, X, Y, cv=kfold)\n",
    "scoring = 'neg_mean_squared_error'\n",
    "results = cross_val_score(model, X, Y, scoring=scoring,cv=kfold)\n",
    "print(results.mean())"
   ]
  },
  {
   "cell_type": "code",
   "execution_count": null,
   "metadata": {
    "collapsed": true
   },
   "outputs": [],
   "source": []
  },
  {
   "cell_type": "code",
   "execution_count": null,
   "metadata": {
    "collapsed": true
   },
   "outputs": [],
   "source": []
  },
  {
   "cell_type": "code",
   "execution_count": null,
   "metadata": {
    "collapsed": true
   },
   "outputs": [],
   "source": []
  }
 ],
 "metadata": {
  "kernelspec": {
   "display_name": "Python 3",
   "language": "python",
   "name": "python3"
  },
  "language_info": {
   "codemirror_mode": {
    "name": "ipython",
    "version": 3
   },
   "file_extension": ".py",
   "mimetype": "text/x-python",
   "name": "python",
   "nbconvert_exporter": "python",
   "pygments_lexer": "ipython3",
   "version": "3.6.3"
  }
 },
 "nbformat": 4,
 "nbformat_minor": 2
}
